{
 "cells": [
  {
   "cell_type": "code",
   "execution_count": 1,
   "metadata": {},
   "outputs": [],
   "source": [
    "# We first import the necessary Libraries\n",
    "import numpy as np\n",
    "import pandas as pd\n",
    "import matplotlib.pyplot as plt\n",
    "import seaborn as sns"
   ]
  },
  {
   "cell_type": "code",
   "execution_count": 2,
   "metadata": {},
   "outputs": [
    {
     "data": {
      "text/plain": [
       "(4340, 8)"
      ]
     },
     "execution_count": 2,
     "metadata": {},
     "output_type": "execute_result"
    }
   ],
   "source": [
    "## import the dataset and detern=mine it's shape\n",
    "df = pd.read_csv(r'C:\\Users\\HP ELITEBOOK 810 G3\\Downloads\\CAR DETAILS FROM CAR DEKHO.csv')\n",
    "df.shape"
   ]
  },
  {
   "cell_type": "code",
   "execution_count": 3,
   "metadata": {},
   "outputs": [
    {
     "data": {
      "text/html": [
       "<div>\n",
       "<style scoped>\n",
       "    .dataframe tbody tr th:only-of-type {\n",
       "        vertical-align: middle;\n",
       "    }\n",
       "\n",
       "    .dataframe tbody tr th {\n",
       "        vertical-align: top;\n",
       "    }\n",
       "\n",
       "    .dataframe thead th {\n",
       "        text-align: right;\n",
       "    }\n",
       "</style>\n",
       "<table border=\"1\" class=\"dataframe\">\n",
       "  <thead>\n",
       "    <tr style=\"text-align: right;\">\n",
       "      <th></th>\n",
       "      <th>name</th>\n",
       "      <th>year</th>\n",
       "      <th>selling_price</th>\n",
       "      <th>km_driven</th>\n",
       "      <th>fuel</th>\n",
       "      <th>seller_type</th>\n",
       "      <th>transmission</th>\n",
       "      <th>owner</th>\n",
       "    </tr>\n",
       "  </thead>\n",
       "  <tbody>\n",
       "    <tr>\n",
       "      <th>0</th>\n",
       "      <td>Maruti 800 AC</td>\n",
       "      <td>2007.0</td>\n",
       "      <td>60000</td>\n",
       "      <td>70000.0</td>\n",
       "      <td>Petrol</td>\n",
       "      <td>Individual</td>\n",
       "      <td>Manual</td>\n",
       "      <td>First Owner</td>\n",
       "    </tr>\n",
       "    <tr>\n",
       "      <th>1</th>\n",
       "      <td>Maruti Wagon R LXI Minor</td>\n",
       "      <td>2007.0</td>\n",
       "      <td>135000</td>\n",
       "      <td>50000.0</td>\n",
       "      <td>Petrol</td>\n",
       "      <td>Individual</td>\n",
       "      <td>Manual</td>\n",
       "      <td>First Owner</td>\n",
       "    </tr>\n",
       "    <tr>\n",
       "      <th>2</th>\n",
       "      <td>Hyundai Verna 1.6 SX</td>\n",
       "      <td>2012.0</td>\n",
       "      <td>600000</td>\n",
       "      <td>100000.0</td>\n",
       "      <td>NaN</td>\n",
       "      <td>Individual</td>\n",
       "      <td>Manual</td>\n",
       "      <td>First Owner</td>\n",
       "    </tr>\n",
       "    <tr>\n",
       "      <th>3</th>\n",
       "      <td>Datsun RediGO T Option</td>\n",
       "      <td>2017.0</td>\n",
       "      <td>250000</td>\n",
       "      <td>46000.0</td>\n",
       "      <td>Petrol</td>\n",
       "      <td>Individual</td>\n",
       "      <td>Manual</td>\n",
       "      <td>First Owner</td>\n",
       "    </tr>\n",
       "    <tr>\n",
       "      <th>4</th>\n",
       "      <td>Honda Amaze VX i-DTEC</td>\n",
       "      <td>2014.0</td>\n",
       "      <td>450000</td>\n",
       "      <td>141000.0</td>\n",
       "      <td>Diesel</td>\n",
       "      <td>NaN</td>\n",
       "      <td>Manual</td>\n",
       "      <td>Second Owner</td>\n",
       "    </tr>\n",
       "  </tbody>\n",
       "</table>\n",
       "</div>"
      ],
      "text/plain": [
       "                       name    year  selling_price  km_driven    fuel  \\\n",
       "0             Maruti 800 AC  2007.0          60000    70000.0  Petrol   \n",
       "1  Maruti Wagon R LXI Minor  2007.0         135000    50000.0  Petrol   \n",
       "2      Hyundai Verna 1.6 SX  2012.0         600000   100000.0     NaN   \n",
       "3    Datsun RediGO T Option  2017.0         250000    46000.0  Petrol   \n",
       "4     Honda Amaze VX i-DTEC  2014.0         450000   141000.0  Diesel   \n",
       "\n",
       "  seller_type transmission         owner  \n",
       "0  Individual       Manual   First Owner  \n",
       "1  Individual       Manual   First Owner  \n",
       "2  Individual       Manual   First Owner  \n",
       "3  Individual       Manual   First Owner  \n",
       "4         NaN       Manual  Second Owner  "
      ]
     },
     "execution_count": 3,
     "metadata": {},
     "output_type": "execute_result"
    }
   ],
   "source": [
    "## we see the Dataframe\n",
    "df.head()"
   ]
  },
  {
   "cell_type": "code",
   "execution_count": 4,
   "metadata": {},
   "outputs": [],
   "source": [
    "## we set the name column as the index column\n",
    "df.set_index(['name'],inplace = True)"
   ]
  },
  {
   "cell_type": "code",
   "execution_count": 5,
   "metadata": {},
   "outputs": [
    {
     "data": {
      "text/html": [
       "<div>\n",
       "<style scoped>\n",
       "    .dataframe tbody tr th:only-of-type {\n",
       "        vertical-align: middle;\n",
       "    }\n",
       "\n",
       "    .dataframe tbody tr th {\n",
       "        vertical-align: top;\n",
       "    }\n",
       "\n",
       "    .dataframe thead th {\n",
       "        text-align: right;\n",
       "    }\n",
       "</style>\n",
       "<table border=\"1\" class=\"dataframe\">\n",
       "  <thead>\n",
       "    <tr style=\"text-align: right;\">\n",
       "      <th></th>\n",
       "      <th>year</th>\n",
       "      <th>selling_price</th>\n",
       "      <th>km_driven</th>\n",
       "      <th>fuel</th>\n",
       "      <th>seller_type</th>\n",
       "      <th>transmission</th>\n",
       "      <th>owner</th>\n",
       "    </tr>\n",
       "    <tr>\n",
       "      <th>name</th>\n",
       "      <th></th>\n",
       "      <th></th>\n",
       "      <th></th>\n",
       "      <th></th>\n",
       "      <th></th>\n",
       "      <th></th>\n",
       "      <th></th>\n",
       "    </tr>\n",
       "  </thead>\n",
       "  <tbody>\n",
       "    <tr>\n",
       "      <th>Maruti 800 AC</th>\n",
       "      <td>2007.0</td>\n",
       "      <td>60000</td>\n",
       "      <td>70000.0</td>\n",
       "      <td>Petrol</td>\n",
       "      <td>Individual</td>\n",
       "      <td>Manual</td>\n",
       "      <td>First Owner</td>\n",
       "    </tr>\n",
       "    <tr>\n",
       "      <th>Maruti Wagon R LXI Minor</th>\n",
       "      <td>2007.0</td>\n",
       "      <td>135000</td>\n",
       "      <td>50000.0</td>\n",
       "      <td>Petrol</td>\n",
       "      <td>Individual</td>\n",
       "      <td>Manual</td>\n",
       "      <td>First Owner</td>\n",
       "    </tr>\n",
       "    <tr>\n",
       "      <th>Hyundai Verna 1.6 SX</th>\n",
       "      <td>2012.0</td>\n",
       "      <td>600000</td>\n",
       "      <td>100000.0</td>\n",
       "      <td>NaN</td>\n",
       "      <td>Individual</td>\n",
       "      <td>Manual</td>\n",
       "      <td>First Owner</td>\n",
       "    </tr>\n",
       "    <tr>\n",
       "      <th>Datsun RediGO T Option</th>\n",
       "      <td>2017.0</td>\n",
       "      <td>250000</td>\n",
       "      <td>46000.0</td>\n",
       "      <td>Petrol</td>\n",
       "      <td>Individual</td>\n",
       "      <td>Manual</td>\n",
       "      <td>First Owner</td>\n",
       "    </tr>\n",
       "    <tr>\n",
       "      <th>Honda Amaze VX i-DTEC</th>\n",
       "      <td>2014.0</td>\n",
       "      <td>450000</td>\n",
       "      <td>141000.0</td>\n",
       "      <td>Diesel</td>\n",
       "      <td>NaN</td>\n",
       "      <td>Manual</td>\n",
       "      <td>Second Owner</td>\n",
       "    </tr>\n",
       "  </tbody>\n",
       "</table>\n",
       "</div>"
      ],
      "text/plain": [
       "                            year  selling_price  km_driven    fuel  \\\n",
       "name                                                                 \n",
       "Maruti 800 AC             2007.0          60000    70000.0  Petrol   \n",
       "Maruti Wagon R LXI Minor  2007.0         135000    50000.0  Petrol   \n",
       "Hyundai Verna 1.6 SX      2012.0         600000   100000.0     NaN   \n",
       "Datsun RediGO T Option    2017.0         250000    46000.0  Petrol   \n",
       "Honda Amaze VX i-DTEC     2014.0         450000   141000.0  Diesel   \n",
       "\n",
       "                         seller_type transmission         owner  \n",
       "name                                                             \n",
       "Maruti 800 AC             Individual       Manual   First Owner  \n",
       "Maruti Wagon R LXI Minor  Individual       Manual   First Owner  \n",
       "Hyundai Verna 1.6 SX      Individual       Manual   First Owner  \n",
       "Datsun RediGO T Option    Individual       Manual   First Owner  \n",
       "Honda Amaze VX i-DTEC            NaN       Manual  Second Owner  "
      ]
     },
     "execution_count": 5,
     "metadata": {},
     "output_type": "execute_result"
    }
   ],
   "source": [
    "## now we check the dataframe to observe the required changes\n",
    "df.head()"
   ]
  },
  {
   "cell_type": "code",
   "execution_count": 6,
   "metadata": {},
   "outputs": [],
   "source": [
    "## we try to display all the rows and columns of the dataset\n",
    "pd.set_option('display.max_rows',None)\n",
    "pd.set_option('display.max_columns',None)"
   ]
  },
  {
   "cell_type": "code",
   "execution_count": 7,
   "metadata": {
    "scrolled": false
   },
   "outputs": [
    {
     "data": {
      "text/html": [
       "<div>\n",
       "<style scoped>\n",
       "    .dataframe tbody tr th:only-of-type {\n",
       "        vertical-align: middle;\n",
       "    }\n",
       "\n",
       "    .dataframe tbody tr th {\n",
       "        vertical-align: top;\n",
       "    }\n",
       "\n",
       "    .dataframe thead th {\n",
       "        text-align: right;\n",
       "    }\n",
       "</style>\n",
       "<table border=\"1\" class=\"dataframe\">\n",
       "  <thead>\n",
       "    <tr style=\"text-align: right;\">\n",
       "      <th></th>\n",
       "      <th>year</th>\n",
       "      <th>selling_price</th>\n",
       "      <th>km_driven</th>\n",
       "      <th>fuel</th>\n",
       "      <th>seller_type</th>\n",
       "      <th>transmission</th>\n",
       "      <th>owner</th>\n",
       "    </tr>\n",
       "    <tr>\n",
       "      <th>name</th>\n",
       "      <th></th>\n",
       "      <th></th>\n",
       "      <th></th>\n",
       "      <th></th>\n",
       "      <th></th>\n",
       "      <th></th>\n",
       "      <th></th>\n",
       "    </tr>\n",
       "  </thead>\n",
       "  <tbody>\n",
       "    <tr>\n",
       "      <th>Maruti 800 AC</th>\n",
       "      <td>2007.0</td>\n",
       "      <td>60000</td>\n",
       "      <td>70000.0</td>\n",
       "      <td>Petrol</td>\n",
       "      <td>Individual</td>\n",
       "      <td>Manual</td>\n",
       "      <td>First Owner</td>\n",
       "    </tr>\n",
       "    <tr>\n",
       "      <th>Maruti Wagon R LXI Minor</th>\n",
       "      <td>2007.0</td>\n",
       "      <td>135000</td>\n",
       "      <td>50000.0</td>\n",
       "      <td>Petrol</td>\n",
       "      <td>Individual</td>\n",
       "      <td>Manual</td>\n",
       "      <td>First Owner</td>\n",
       "    </tr>\n",
       "    <tr>\n",
       "      <th>Hyundai Verna 1.6 SX</th>\n",
       "      <td>2012.0</td>\n",
       "      <td>600000</td>\n",
       "      <td>100000.0</td>\n",
       "      <td>NaN</td>\n",
       "      <td>Individual</td>\n",
       "      <td>Manual</td>\n",
       "      <td>First Owner</td>\n",
       "    </tr>\n",
       "    <tr>\n",
       "      <th>Datsun RediGO T Option</th>\n",
       "      <td>2017.0</td>\n",
       "      <td>250000</td>\n",
       "      <td>46000.0</td>\n",
       "      <td>Petrol</td>\n",
       "      <td>Individual</td>\n",
       "      <td>Manual</td>\n",
       "      <td>First Owner</td>\n",
       "    </tr>\n",
       "    <tr>\n",
       "      <th>Honda Amaze VX i-DTEC</th>\n",
       "      <td>2014.0</td>\n",
       "      <td>450000</td>\n",
       "      <td>141000.0</td>\n",
       "      <td>Diesel</td>\n",
       "      <td>NaN</td>\n",
       "      <td>Manual</td>\n",
       "      <td>Second Owner</td>\n",
       "    </tr>\n",
       "    <tr>\n",
       "      <th>Maruti Alto LX BSIII</th>\n",
       "      <td>2007.0</td>\n",
       "      <td>140000</td>\n",
       "      <td>125000.0</td>\n",
       "      <td>Petrol</td>\n",
       "      <td>Individual</td>\n",
       "      <td>Manual</td>\n",
       "      <td>First Owner</td>\n",
       "    </tr>\n",
       "    <tr>\n",
       "      <th>Hyundai Xcent 1.2 Kappa S</th>\n",
       "      <td>2016.0</td>\n",
       "      <td>550000</td>\n",
       "      <td>25000.0</td>\n",
       "      <td>Petrol</td>\n",
       "      <td>Individual</td>\n",
       "      <td>NaN</td>\n",
       "      <td>NaN</td>\n",
       "    </tr>\n",
       "    <tr>\n",
       "      <th>Tata Indigo Grand Petrol</th>\n",
       "      <td>2014.0</td>\n",
       "      <td>240000</td>\n",
       "      <td>60000.0</td>\n",
       "      <td>Petrol</td>\n",
       "      <td>Individual</td>\n",
       "      <td>Manual</td>\n",
       "      <td>Second Owner</td>\n",
       "    </tr>\n",
       "    <tr>\n",
       "      <th>Hyundai Creta 1.6 VTVT S</th>\n",
       "      <td>2015.0</td>\n",
       "      <td>850000</td>\n",
       "      <td>25000.0</td>\n",
       "      <td>Petrol</td>\n",
       "      <td>Individual</td>\n",
       "      <td>Manual</td>\n",
       "      <td>First Owner</td>\n",
       "    </tr>\n",
       "    <tr>\n",
       "      <th>Maruti Celerio Green VXI</th>\n",
       "      <td>2017.0</td>\n",
       "      <td>365000</td>\n",
       "      <td>78000.0</td>\n",
       "      <td>CNG</td>\n",
       "      <td>Individual</td>\n",
       "      <td>Manual</td>\n",
       "      <td>First Owner</td>\n",
       "    </tr>\n",
       "  </tbody>\n",
       "</table>\n",
       "</div>"
      ],
      "text/plain": [
       "                             year  selling_price  km_driven    fuel  \\\n",
       "name                                                                  \n",
       "Maruti 800 AC              2007.0          60000    70000.0  Petrol   \n",
       "Maruti Wagon R LXI Minor   2007.0         135000    50000.0  Petrol   \n",
       "Hyundai Verna 1.6 SX       2012.0         600000   100000.0     NaN   \n",
       "Datsun RediGO T Option     2017.0         250000    46000.0  Petrol   \n",
       "Honda Amaze VX i-DTEC      2014.0         450000   141000.0  Diesel   \n",
       "Maruti Alto LX BSIII       2007.0         140000   125000.0  Petrol   \n",
       "Hyundai Xcent 1.2 Kappa S  2016.0         550000    25000.0  Petrol   \n",
       "Tata Indigo Grand Petrol   2014.0         240000    60000.0  Petrol   \n",
       "Hyundai Creta 1.6 VTVT S   2015.0         850000    25000.0  Petrol   \n",
       "Maruti Celerio Green VXI   2017.0         365000    78000.0     CNG   \n",
       "\n",
       "                          seller_type transmission         owner  \n",
       "name                                                              \n",
       "Maruti 800 AC              Individual       Manual   First Owner  \n",
       "Maruti Wagon R LXI Minor   Individual       Manual   First Owner  \n",
       "Hyundai Verna 1.6 SX       Individual       Manual   First Owner  \n",
       "Datsun RediGO T Option     Individual       Manual   First Owner  \n",
       "Honda Amaze VX i-DTEC             NaN       Manual  Second Owner  \n",
       "Maruti Alto LX BSIII       Individual       Manual   First Owner  \n",
       "Hyundai Xcent 1.2 Kappa S  Individual          NaN           NaN  \n",
       "Tata Indigo Grand Petrol   Individual       Manual  Second Owner  \n",
       "Hyundai Creta 1.6 VTVT S   Individual       Manual   First Owner  \n",
       "Maruti Celerio Green VXI   Individual       Manual   First Owner  "
      ]
     },
     "execution_count": 7,
     "metadata": {},
     "output_type": "execute_result"
    }
   ],
   "source": [
    "## we check the dataset\n",
    "df.head(10)"
   ]
  },
  {
   "cell_type": "code",
   "execution_count": 8,
   "metadata": {},
   "outputs": [
    {
     "data": {
      "text/plain": [
       "year             29\n",
       "selling_price     0\n",
       "km_driven         1\n",
       "fuel             24\n",
       "seller_type      20\n",
       "transmission     26\n",
       "owner            20\n",
       "dtype: int64"
      ]
     },
     "execution_count": 8,
     "metadata": {},
     "output_type": "execute_result"
    }
   ],
   "source": [
    "## we check the null values present in each columns in the dataset \n",
    "df.isnull().sum()"
   ]
  },
  {
   "cell_type": "code",
   "execution_count": 9,
   "metadata": {},
   "outputs": [
    {
     "name": "stdout",
     "output_type": "stream",
     "text": [
      "<class 'pandas.core.frame.DataFrame'>\n",
      "Index: 4340 entries, Maruti 800 AC to Renault KWID RXT\n",
      "Data columns (total 7 columns):\n",
      " #   Column         Non-Null Count  Dtype  \n",
      "---  ------         --------------  -----  \n",
      " 0   year           4311 non-null   float64\n",
      " 1   selling_price  4340 non-null   int64  \n",
      " 2   km_driven      4339 non-null   float64\n",
      " 3   fuel           4316 non-null   object \n",
      " 4   seller_type    4320 non-null   object \n",
      " 5   transmission   4314 non-null   object \n",
      " 6   owner          4320 non-null   object \n",
      "dtypes: float64(2), int64(1), object(4)\n",
      "memory usage: 271.2+ KB\n"
     ]
    }
   ],
   "source": [
    "## we try to gather more information on the dataset\n",
    "df.info()"
   ]
  },
  {
   "cell_type": "code",
   "execution_count": 10,
   "metadata": {},
   "outputs": [
    {
     "data": {
      "text/html": [
       "<div>\n",
       "<style scoped>\n",
       "    .dataframe tbody tr th:only-of-type {\n",
       "        vertical-align: middle;\n",
       "    }\n",
       "\n",
       "    .dataframe tbody tr th {\n",
       "        vertical-align: top;\n",
       "    }\n",
       "\n",
       "    .dataframe thead th {\n",
       "        text-align: right;\n",
       "    }\n",
       "</style>\n",
       "<table border=\"1\" class=\"dataframe\">\n",
       "  <thead>\n",
       "    <tr style=\"text-align: right;\">\n",
       "      <th></th>\n",
       "      <th>year</th>\n",
       "      <th>selling_price</th>\n",
       "      <th>km_driven</th>\n",
       "    </tr>\n",
       "  </thead>\n",
       "  <tbody>\n",
       "    <tr>\n",
       "      <th>count</th>\n",
       "      <td>4311.000000</td>\n",
       "      <td>4.340000e+03</td>\n",
       "      <td>4339.000000</td>\n",
       "    </tr>\n",
       "    <tr>\n",
       "      <th>mean</th>\n",
       "      <td>2013.091394</td>\n",
       "      <td>5.041273e+05</td>\n",
       "      <td>65987.648767</td>\n",
       "    </tr>\n",
       "    <tr>\n",
       "      <th>std</th>\n",
       "      <td>4.229495</td>\n",
       "      <td>5.785487e+05</td>\n",
       "      <td>46810.308740</td>\n",
       "    </tr>\n",
       "    <tr>\n",
       "      <th>min</th>\n",
       "      <td>1992.000000</td>\n",
       "      <td>2.000000e+04</td>\n",
       "      <td>0.000000</td>\n",
       "    </tr>\n",
       "    <tr>\n",
       "      <th>25%</th>\n",
       "      <td>2011.000000</td>\n",
       "      <td>2.087498e+05</td>\n",
       "      <td>35000.000000</td>\n",
       "    </tr>\n",
       "    <tr>\n",
       "      <th>50%</th>\n",
       "      <td>2014.000000</td>\n",
       "      <td>3.500000e+05</td>\n",
       "      <td>60000.000000</td>\n",
       "    </tr>\n",
       "    <tr>\n",
       "      <th>75%</th>\n",
       "      <td>2016.000000</td>\n",
       "      <td>6.000000e+05</td>\n",
       "      <td>90000.000000</td>\n",
       "    </tr>\n",
       "    <tr>\n",
       "      <th>max</th>\n",
       "      <td>2020.000000</td>\n",
       "      <td>8.900000e+06</td>\n",
       "      <td>806599.000000</td>\n",
       "    </tr>\n",
       "  </tbody>\n",
       "</table>\n",
       "</div>"
      ],
      "text/plain": [
       "              year  selling_price      km_driven\n",
       "count  4311.000000   4.340000e+03    4339.000000\n",
       "mean   2013.091394   5.041273e+05   65987.648767\n",
       "std       4.229495   5.785487e+05   46810.308740\n",
       "min    1992.000000   2.000000e+04       0.000000\n",
       "25%    2011.000000   2.087498e+05   35000.000000\n",
       "50%    2014.000000   3.500000e+05   60000.000000\n",
       "75%    2016.000000   6.000000e+05   90000.000000\n",
       "max    2020.000000   8.900000e+06  806599.000000"
      ]
     },
     "execution_count": 10,
     "metadata": {},
     "output_type": "execute_result"
    }
   ],
   "source": [
    "## we display certain ststistical features of the dataset using describe function\n",
    "df.describe()"
   ]
  },
  {
   "cell_type": "code",
   "execution_count": 11,
   "metadata": {},
   "outputs": [],
   "source": [
    "## we find the null value percent of each column and sstore it in a variable\n",
    "null_percent = df.isnull().mean()*100"
   ]
  },
  {
   "cell_type": "code",
   "execution_count": 12,
   "metadata": {},
   "outputs": [
    {
     "data": {
      "text/plain": [
       "year             0.668203\n",
       "selling_price    0.000000\n",
       "km_driven        0.023041\n",
       "fuel             0.552995\n",
       "seller_type      0.460829\n",
       "transmission     0.599078\n",
       "owner            0.460829\n",
       "dtype: float64"
      ]
     },
     "execution_count": 12,
     "metadata": {},
     "output_type": "execute_result"
    }
   ],
   "source": [
    "## now we display the null percent variable \n",
    "null_percent"
   ]
  },
  {
   "cell_type": "code",
   "execution_count": 13,
   "metadata": {},
   "outputs": [
    {
     "data": {
      "text/plain": [
       "count    4.340000e+03\n",
       "mean     5.041273e+05\n",
       "std      5.785487e+05\n",
       "min      2.000000e+04\n",
       "25%      2.087498e+05\n",
       "50%      3.500000e+05\n",
       "75%      6.000000e+05\n",
       "max      8.900000e+06\n",
       "Name: selling_price, dtype: float64"
      ]
     },
     "execution_count": 13,
     "metadata": {},
     "output_type": "execute_result"
    }
   ],
   "source": [
    "## to check the statistical features of the response variable\n",
    "df['selling_price'].describe()"
   ]
  },
  {
   "cell_type": "code",
   "execution_count": 14,
   "metadata": {},
   "outputs": [
    {
     "data": {
      "image/png": "[encoded data removed]",
      "text/plain": [
       "<Figure size 1152x648 with 1 Axes>"
      ]
     },
     "metadata": {
      "needs_background": "light"
     },
     "output_type": "display_data"
    }
   ],
   "source": [
    "## we make a displot to check the distribution of the response variable\n",
    "plt.figure(figsize = (16,9))\n",
    "bar = sns.distplot(df['selling_price'])\n",
    "bar.legend([f\"Skewness : {(df['selling_price'].skew()) : .2f}\"])\n",
    "plt.show()"
   ]
  },
  {
   "cell_type": "code",
   "execution_count": 15,
   "metadata": {},
   "outputs": [
    {
     "data": {
      "image/png": "[encoded data removed]",
      "text/plain": [
       "<Figure size 576x432 with 2 Axes>"
      ]
     },
     "metadata": {
      "needs_background": "light"
     },
     "output_type": "display_data"
    }
   ],
   "source": [
    "## we create a correlation matrix to check the correlation coefficients among the variables of the dataset \n",
    "plt.figure(figsize = (8,6))\n",
    "heat = sns.heatmap(df.corr(),cmap = 'coolwarm',annot= True, linewidths= 2)\n",
    "plt.show()"
   ]
  },
  {
   "cell_type": "code",
   "execution_count": 16,
   "metadata": {},
   "outputs": [
    {
     "data": {
      "text/plain": [
       "(4340, 4)"
      ]
     },
     "execution_count": 16,
     "metadata": {},
     "output_type": "execute_result"
    }
   ],
   "source": [
    "## we create a variable which includes columns with only object datatype   \n",
    "cat_var = df.select_dtypes(include= ['object'])\n",
    "cat_var.shape"
   ]
  },
  {
   "cell_type": "code",
   "execution_count": 17,
   "metadata": {},
   "outputs": [
    {
     "data": {
      "text/plain": [
       "fuel            24\n",
       "seller_type     20\n",
       "transmission    26\n",
       "owner           20\n",
       "dtype: int64"
      ]
     },
     "execution_count": 17,
     "metadata": {},
     "output_type": "execute_result"
    }
   ],
   "source": [
    "## now we check the number of null values in the cat_var dataframe\n",
    "cat_var.isnull().sum()"
   ]
  },
  {
   "cell_type": "code",
   "execution_count": 18,
   "metadata": {},
   "outputs": [
    {
     "data": {
      "text/plain": [
       "Diesel      2129\n",
       "Petrol      2123\n",
       "CNG           40\n",
       "LPG           23\n",
       "Electric       1\n",
       "Name: fuel, dtype: int64"
      ]
     },
     "execution_count": 18,
     "metadata": {},
     "output_type": "execute_result"
    }
   ],
   "source": [
    "## we find the number of unique values present in each category of the columns \n",
    "cat_var['fuel'].value_counts()"
   ]
  },
  {
   "cell_type": "code",
   "execution_count": 19,
   "metadata": {},
   "outputs": [
    {
     "data": {
      "text/plain": [
       "0    Diesel\n",
       "dtype: object"
      ]
     },
     "execution_count": 19,
     "metadata": {},
     "output_type": "execute_result"
    }
   ],
   "source": [
    "## we check the modal value for the fuel column\n",
    "cat_var['fuel'].mode()"
   ]
  },
  {
   "cell_type": "code",
   "execution_count": 20,
   "metadata": {},
   "outputs": [],
   "source": [
    "## we impute the null values in the fuel column by it's mode \n",
    "df.update(cat_var['fuel'].fillna(cat_var['fuel'].mode()[0]))"
   ]
  },
  {
   "cell_type": "code",
   "execution_count": 21,
   "metadata": {},
   "outputs": [
    {
     "data": {
      "text/plain": [
       "year             29\n",
       "selling_price     0\n",
       "km_driven         1\n",
       "fuel              0\n",
       "seller_type      20\n",
       "transmission     26\n",
       "owner            20\n",
       "dtype: int64"
      ]
     },
     "execution_count": 21,
     "metadata": {},
     "output_type": "execute_result"
    }
   ],
   "source": [
    "## we check the null value count in the fuel column after imputaion \n",
    "df.isnull().sum()"
   ]
  },
  {
   "cell_type": "code",
   "execution_count": 22,
   "metadata": {},
   "outputs": [],
   "source": [
    "## now we impute all the columns with their modal value in the cat_var variable \n",
    "for var in cat_var:\n",
    "    df.update(cat_var[var].fillna(cat_var[var].mode()[0]))"
   ]
  },
  {
   "cell_type": "code",
   "execution_count": 23,
   "metadata": {},
   "outputs": [
    {
     "data": {
      "text/plain": [
       "year             29\n",
       "selling_price     0\n",
       "km_driven         1\n",
       "fuel              0\n",
       "seller_type       0\n",
       "transmission      0\n",
       "owner             0\n",
       "dtype: int64"
      ]
     },
     "execution_count": 23,
     "metadata": {},
     "output_type": "execute_result"
    }
   ],
   "source": [
    "## after imputing we check the null value counts\n",
    "df.isnull().sum()"
   ]
  },
  {
   "cell_type": "code",
   "execution_count": 24,
   "metadata": {},
   "outputs": [
    {
     "data": {
      "text/plain": [
       "(4340, 3)"
      ]
     },
     "execution_count": 24,
     "metadata": {},
     "output_type": "execute_result"
    }
   ],
   "source": [
    "# We create a dataframe containing only the numerical features of the dataset\n",
    "num_var = df.select_dtypes(include= ['int64','float64'])\n",
    "num_var.shape"
   ]
  },
  {
   "cell_type": "code",
   "execution_count": 25,
   "metadata": {},
   "outputs": [
    {
     "data": {
      "text/plain": [
       "year             29\n",
       "selling_price     0\n",
       "km_driven         1\n",
       "dtype: int64"
      ]
     },
     "execution_count": 25,
     "metadata": {},
     "output_type": "execute_result"
    }
   ],
   "source": [
    "# We check the null counts of all the numerical columns\n",
    "num_var.isnull().sum()"
   ]
  },
  {
   "cell_type": "code",
   "execution_count": 26,
   "metadata": {},
   "outputs": [
    {
     "data": {
      "text/plain": [
       "2013.0913941080955"
      ]
     },
     "execution_count": 26,
     "metadata": {},
     "output_type": "execute_result"
    }
   ],
   "source": [
    "# We check the mean of the \"Year\" column\n",
    "num_var['year'].mean()"
   ]
  },
  {
   "cell_type": "code",
   "execution_count": 27,
   "metadata": {},
   "outputs": [
    {
     "data": {
      "text/plain": [
       "65987.64876699701"
      ]
     },
     "execution_count": 27,
     "metadata": {},
     "output_type": "execute_result"
    }
   ],
   "source": [
    "# We check the mean of the \"km_driven\" column\n",
    "num_var['km_driven'].mean()"
   ]
  },
  {
   "cell_type": "code",
   "execution_count": 28,
   "metadata": {},
   "outputs": [],
   "source": [
    "# We impute the null values with the mean method\n",
    "for var_num in num_var:\n",
    "    df.update(num_var[var_num].fillna(num_var[var_num].mean()))"
   ]
  },
  {
   "cell_type": "code",
   "execution_count": 29,
   "metadata": {},
   "outputs": [
    {
     "data": {
      "text/plain": [
       "year             0\n",
       "selling_price    0\n",
       "km_driven        0\n",
       "fuel             0\n",
       "seller_type      0\n",
       "transmission     0\n",
       "owner            0\n",
       "dtype: int64"
      ]
     },
     "execution_count": 29,
     "metadata": {},
     "output_type": "execute_result"
    }
   ],
   "source": [
    "# We check the null count of the dataframe\n",
    "df.isnull().sum()"
   ]
  },
  {
   "cell_type": "code",
   "execution_count": 30,
   "metadata": {},
   "outputs": [
    {
     "data": {
      "text/html": [
       "<div>\n",
       "<style scoped>\n",
       "    .dataframe tbody tr th:only-of-type {\n",
       "        vertical-align: middle;\n",
       "    }\n",
       "\n",
       "    .dataframe tbody tr th {\n",
       "        vertical-align: top;\n",
       "    }\n",
       "\n",
       "    .dataframe thead th {\n",
       "        text-align: right;\n",
       "    }\n",
       "</style>\n",
       "<table border=\"1\" class=\"dataframe\">\n",
       "  <thead>\n",
       "    <tr style=\"text-align: right;\">\n",
       "      <th></th>\n",
       "      <th>year</th>\n",
       "      <th>selling_price</th>\n",
       "      <th>km_driven</th>\n",
       "      <th>fuel</th>\n",
       "      <th>seller_type</th>\n",
       "      <th>transmission</th>\n",
       "      <th>owner</th>\n",
       "    </tr>\n",
       "    <tr>\n",
       "      <th>name</th>\n",
       "      <th></th>\n",
       "      <th></th>\n",
       "      <th></th>\n",
       "      <th></th>\n",
       "      <th></th>\n",
       "      <th></th>\n",
       "      <th></th>\n",
       "    </tr>\n",
       "  </thead>\n",
       "  <tbody>\n",
       "    <tr>\n",
       "      <th>Maruti 800 AC</th>\n",
       "      <td>2007.0</td>\n",
       "      <td>60000</td>\n",
       "      <td>70000.0</td>\n",
       "      <td>Petrol</td>\n",
       "      <td>Individual</td>\n",
       "      <td>Manual</td>\n",
       "      <td>First Owner</td>\n",
       "    </tr>\n",
       "    <tr>\n",
       "      <th>Maruti Wagon R LXI Minor</th>\n",
       "      <td>2007.0</td>\n",
       "      <td>135000</td>\n",
       "      <td>50000.0</td>\n",
       "      <td>Petrol</td>\n",
       "      <td>Individual</td>\n",
       "      <td>Manual</td>\n",
       "      <td>First Owner</td>\n",
       "    </tr>\n",
       "    <tr>\n",
       "      <th>Hyundai Verna 1.6 SX</th>\n",
       "      <td>2012.0</td>\n",
       "      <td>600000</td>\n",
       "      <td>100000.0</td>\n",
       "      <td>Diesel</td>\n",
       "      <td>Individual</td>\n",
       "      <td>Manual</td>\n",
       "      <td>First Owner</td>\n",
       "    </tr>\n",
       "    <tr>\n",
       "      <th>Datsun RediGO T Option</th>\n",
       "      <td>2017.0</td>\n",
       "      <td>250000</td>\n",
       "      <td>46000.0</td>\n",
       "      <td>Petrol</td>\n",
       "      <td>Individual</td>\n",
       "      <td>Manual</td>\n",
       "      <td>First Owner</td>\n",
       "    </tr>\n",
       "    <tr>\n",
       "      <th>Honda Amaze VX i-DTEC</th>\n",
       "      <td>2014.0</td>\n",
       "      <td>450000</td>\n",
       "      <td>141000.0</td>\n",
       "      <td>Diesel</td>\n",
       "      <td>Individual</td>\n",
       "      <td>Manual</td>\n",
       "      <td>Second Owner</td>\n",
       "    </tr>\n",
       "  </tbody>\n",
       "</table>\n",
       "</div>"
      ],
      "text/plain": [
       "                            year  selling_price  km_driven    fuel  \\\n",
       "name                                                                 \n",
       "Maruti 800 AC             2007.0          60000    70000.0  Petrol   \n",
       "Maruti Wagon R LXI Minor  2007.0         135000    50000.0  Petrol   \n",
       "Hyundai Verna 1.6 SX      2012.0         600000   100000.0  Diesel   \n",
       "Datsun RediGO T Option    2017.0         250000    46000.0  Petrol   \n",
       "Honda Amaze VX i-DTEC     2014.0         450000   141000.0  Diesel   \n",
       "\n",
       "                         seller_type transmission         owner  \n",
       "name                                                             \n",
       "Maruti 800 AC             Individual       Manual   First Owner  \n",
       "Maruti Wagon R LXI Minor  Individual       Manual   First Owner  \n",
       "Hyundai Verna 1.6 SX      Individual       Manual   First Owner  \n",
       "Datsun RediGO T Option    Individual       Manual   First Owner  \n",
       "Honda Amaze VX i-DTEC     Individual       Manual  Second Owner  "
      ]
     },
     "execution_count": 30,
     "metadata": {},
     "output_type": "execute_result"
    }
   ],
   "source": [
    "# We check the representation of the dataframe\n",
    "df.head()"
   ]
  },
  {
   "cell_type": "code",
   "execution_count": 31,
   "metadata": {},
   "outputs": [],
   "source": [
    "# We import the necessary libraries for encoding\n",
    "from sklearn.preprocessing import LabelEncoder\n",
    "from sklearn.preprocessing import OrdinalEncoder\n",
    "from sklearn.preprocessing import OneHotEncoder"
   ]
  },
  {
   "cell_type": "code",
   "execution_count": 32,
   "metadata": {},
   "outputs": [
    {
     "data": {
      "text/html": [
       "<div>\n",
       "<style scoped>\n",
       "    .dataframe tbody tr th:only-of-type {\n",
       "        vertical-align: middle;\n",
       "    }\n",
       "\n",
       "    .dataframe tbody tr th {\n",
       "        vertical-align: top;\n",
       "    }\n",
       "\n",
       "    .dataframe thead th {\n",
       "        text-align: right;\n",
       "    }\n",
       "</style>\n",
       "<table border=\"1\" class=\"dataframe\">\n",
       "  <thead>\n",
       "    <tr style=\"text-align: right;\">\n",
       "      <th></th>\n",
       "      <th>year</th>\n",
       "      <th>selling_price</th>\n",
       "      <th>km_driven</th>\n",
       "      <th>fuel</th>\n",
       "      <th>seller_type</th>\n",
       "      <th>transmission</th>\n",
       "      <th>owner</th>\n",
       "    </tr>\n",
       "    <tr>\n",
       "      <th>name</th>\n",
       "      <th></th>\n",
       "      <th></th>\n",
       "      <th></th>\n",
       "      <th></th>\n",
       "      <th></th>\n",
       "      <th></th>\n",
       "      <th></th>\n",
       "    </tr>\n",
       "  </thead>\n",
       "  <tbody>\n",
       "    <tr>\n",
       "      <th>Maruti 800 AC</th>\n",
       "      <td>2007.0</td>\n",
       "      <td>60000</td>\n",
       "      <td>70000.0</td>\n",
       "      <td>Petrol</td>\n",
       "      <td>Individual</td>\n",
       "      <td>Manual</td>\n",
       "      <td>First Owner</td>\n",
       "    </tr>\n",
       "    <tr>\n",
       "      <th>Maruti Wagon R LXI Minor</th>\n",
       "      <td>2007.0</td>\n",
       "      <td>135000</td>\n",
       "      <td>50000.0</td>\n",
       "      <td>Petrol</td>\n",
       "      <td>Individual</td>\n",
       "      <td>Manual</td>\n",
       "      <td>First Owner</td>\n",
       "    </tr>\n",
       "    <tr>\n",
       "      <th>Hyundai Verna 1.6 SX</th>\n",
       "      <td>2012.0</td>\n",
       "      <td>600000</td>\n",
       "      <td>100000.0</td>\n",
       "      <td>Diesel</td>\n",
       "      <td>Individual</td>\n",
       "      <td>Manual</td>\n",
       "      <td>First Owner</td>\n",
       "    </tr>\n",
       "    <tr>\n",
       "      <th>Datsun RediGO T Option</th>\n",
       "      <td>2017.0</td>\n",
       "      <td>250000</td>\n",
       "      <td>46000.0</td>\n",
       "      <td>Petrol</td>\n",
       "      <td>Individual</td>\n",
       "      <td>Manual</td>\n",
       "      <td>First Owner</td>\n",
       "    </tr>\n",
       "    <tr>\n",
       "      <th>Honda Amaze VX i-DTEC</th>\n",
       "      <td>2014.0</td>\n",
       "      <td>450000</td>\n",
       "      <td>141000.0</td>\n",
       "      <td>Diesel</td>\n",
       "      <td>Individual</td>\n",
       "      <td>Manual</td>\n",
       "      <td>Second Owner</td>\n",
       "    </tr>\n",
       "  </tbody>\n",
       "</table>\n",
       "</div>"
      ],
      "text/plain": [
       "                            year  selling_price  km_driven    fuel  \\\n",
       "name                                                                 \n",
       "Maruti 800 AC             2007.0          60000    70000.0  Petrol   \n",
       "Maruti Wagon R LXI Minor  2007.0         135000    50000.0  Petrol   \n",
       "Hyundai Verna 1.6 SX      2012.0         600000   100000.0  Diesel   \n",
       "Datsun RediGO T Option    2017.0         250000    46000.0  Petrol   \n",
       "Honda Amaze VX i-DTEC     2014.0         450000   141000.0  Diesel   \n",
       "\n",
       "                         seller_type transmission         owner  \n",
       "name                                                             \n",
       "Maruti 800 AC             Individual       Manual   First Owner  \n",
       "Maruti Wagon R LXI Minor  Individual       Manual   First Owner  \n",
       "Hyundai Verna 1.6 SX      Individual       Manual   First Owner  \n",
       "Datsun RediGO T Option    Individual       Manual   First Owner  \n",
       "Honda Amaze VX i-DTEC     Individual       Manual  Second Owner  "
      ]
     },
     "execution_count": 32,
     "metadata": {},
     "output_type": "execute_result"
    }
   ],
   "source": [
    "# We check the head of the data\n",
    "df.head()"
   ]
  },
  {
   "cell_type": "code",
   "execution_count": 33,
   "metadata": {},
   "outputs": [],
   "source": [
    "# We call the LabelEncoder \n",
    "le = LabelEncoder()"
   ]
  },
  {
   "cell_type": "code",
   "execution_count": 34,
   "metadata": {},
   "outputs": [
    {
     "data": {
      "text/plain": [
       "Diesel      2153\n",
       "Petrol      2123\n",
       "CNG           40\n",
       "LPG           23\n",
       "Electric       1\n",
       "Name: fuel, dtype: int64"
      ]
     },
     "execution_count": 34,
     "metadata": {},
     "output_type": "execute_result"
    }
   ],
   "source": [
    "# We check the count of \"fues\" feature\n",
    "df['fuel'].value_counts()"
   ]
  },
  {
   "cell_type": "code",
   "execution_count": 35,
   "metadata": {},
   "outputs": [],
   "source": [
    "# We give the labels to subcategories to the \"owner\" column\n",
    "order_owner = {'First Owner' : 1,\n",
    "              'Second Owner' : 2,\n",
    "              'Third Owner' : 3,\n",
    "              'Fourth & Above Owner' : 4,\n",
    "              'Test Drive Car' : 5}"
   ]
  },
  {
   "cell_type": "code",
   "execution_count": 36,
   "metadata": {},
   "outputs": [],
   "source": [
    "# We map the dictionary to owner column\n",
    "df['owner'] = df['owner'].map(order_owner)"
   ]
  },
  {
   "cell_type": "code",
   "execution_count": 37,
   "metadata": {},
   "outputs": [],
   "source": [
    "# We create the dummy variables of the features of the dataset\n",
    "df = pd.get_dummies(df, drop_first= False)"
   ]
  },
  {
   "cell_type": "code",
   "execution_count": 38,
   "metadata": {
    "scrolled": true
   },
   "outputs": [
    {
     "data": {
      "text/html": [
       "<div>\n",
       "<style scoped>\n",
       "    .dataframe tbody tr th:only-of-type {\n",
       "        vertical-align: middle;\n",
       "    }\n",
       "\n",
       "    .dataframe tbody tr th {\n",
       "        vertical-align: top;\n",
       "    }\n",
       "\n",
       "    .dataframe thead th {\n",
       "        text-align: right;\n",
       "    }\n",
       "</style>\n",
       "<table border=\"1\" class=\"dataframe\">\n",
       "  <thead>\n",
       "    <tr style=\"text-align: right;\">\n",
       "      <th></th>\n",
       "      <th>year</th>\n",
       "      <th>selling_price</th>\n",
       "      <th>km_driven</th>\n",
       "      <th>owner</th>\n",
       "      <th>fuel_CNG</th>\n",
       "      <th>fuel_Diesel</th>\n",
       "      <th>fuel_Electric</th>\n",
       "      <th>fuel_LPG</th>\n",
       "      <th>fuel_Petrol</th>\n",
       "      <th>seller_type_Dealer</th>\n",
       "      <th>seller_type_Individual</th>\n",
       "      <th>seller_type_Trustmark Dealer</th>\n",
       "      <th>transmission_Automatic</th>\n",
       "      <th>transmission_Manual</th>\n",
       "    </tr>\n",
       "    <tr>\n",
       "      <th>name</th>\n",
       "      <th></th>\n",
       "      <th></th>\n",
       "      <th></th>\n",
       "      <th></th>\n",
       "      <th></th>\n",
       "      <th></th>\n",
       "      <th></th>\n",
       "      <th></th>\n",
       "      <th></th>\n",
       "      <th></th>\n",
       "      <th></th>\n",
       "      <th></th>\n",
       "      <th></th>\n",
       "      <th></th>\n",
       "    </tr>\n",
       "  </thead>\n",
       "  <tbody>\n",
       "    <tr>\n",
       "      <th>Maruti 800 AC</th>\n",
       "      <td>2007.0</td>\n",
       "      <td>60000</td>\n",
       "      <td>70000.0</td>\n",
       "      <td>1</td>\n",
       "      <td>0</td>\n",
       "      <td>0</td>\n",
       "      <td>0</td>\n",
       "      <td>0</td>\n",
       "      <td>1</td>\n",
       "      <td>0</td>\n",
       "      <td>1</td>\n",
       "      <td>0</td>\n",
       "      <td>0</td>\n",
       "      <td>1</td>\n",
       "    </tr>\n",
       "    <tr>\n",
       "      <th>Maruti Wagon R LXI Minor</th>\n",
       "      <td>2007.0</td>\n",
       "      <td>135000</td>\n",
       "      <td>50000.0</td>\n",
       "      <td>1</td>\n",
       "      <td>0</td>\n",
       "      <td>0</td>\n",
       "      <td>0</td>\n",
       "      <td>0</td>\n",
       "      <td>1</td>\n",
       "      <td>0</td>\n",
       "      <td>1</td>\n",
       "      <td>0</td>\n",
       "      <td>0</td>\n",
       "      <td>1</td>\n",
       "    </tr>\n",
       "    <tr>\n",
       "      <th>Hyundai Verna 1.6 SX</th>\n",
       "      <td>2012.0</td>\n",
       "      <td>600000</td>\n",
       "      <td>100000.0</td>\n",
       "      <td>1</td>\n",
       "      <td>0</td>\n",
       "      <td>1</td>\n",
       "      <td>0</td>\n",
       "      <td>0</td>\n",
       "      <td>0</td>\n",
       "      <td>0</td>\n",
       "      <td>1</td>\n",
       "      <td>0</td>\n",
       "      <td>0</td>\n",
       "      <td>1</td>\n",
       "    </tr>\n",
       "    <tr>\n",
       "      <th>Datsun RediGO T Option</th>\n",
       "      <td>2017.0</td>\n",
       "      <td>250000</td>\n",
       "      <td>46000.0</td>\n",
       "      <td>1</td>\n",
       "      <td>0</td>\n",
       "      <td>0</td>\n",
       "      <td>0</td>\n",
       "      <td>0</td>\n",
       "      <td>1</td>\n",
       "      <td>0</td>\n",
       "      <td>1</td>\n",
       "      <td>0</td>\n",
       "      <td>0</td>\n",
       "      <td>1</td>\n",
       "    </tr>\n",
       "    <tr>\n",
       "      <th>Honda Amaze VX i-DTEC</th>\n",
       "      <td>2014.0</td>\n",
       "      <td>450000</td>\n",
       "      <td>141000.0</td>\n",
       "      <td>2</td>\n",
       "      <td>0</td>\n",
       "      <td>1</td>\n",
       "      <td>0</td>\n",
       "      <td>0</td>\n",
       "      <td>0</td>\n",
       "      <td>0</td>\n",
       "      <td>1</td>\n",
       "      <td>0</td>\n",
       "      <td>0</td>\n",
       "      <td>1</td>\n",
       "    </tr>\n",
       "  </tbody>\n",
       "</table>\n",
       "</div>"
      ],
      "text/plain": [
       "                            year  selling_price  km_driven  owner  fuel_CNG  \\\n",
       "name                                                                          \n",
       "Maruti 800 AC             2007.0          60000    70000.0      1         0   \n",
       "Maruti Wagon R LXI Minor  2007.0         135000    50000.0      1         0   \n",
       "Hyundai Verna 1.6 SX      2012.0         600000   100000.0      1         0   \n",
       "Datsun RediGO T Option    2017.0         250000    46000.0      1         0   \n",
       "Honda Amaze VX i-DTEC     2014.0         450000   141000.0      2         0   \n",
       "\n",
       "                          fuel_Diesel  fuel_Electric  fuel_LPG  fuel_Petrol  \\\n",
       "name                                                                          \n",
       "Maruti 800 AC                       0              0         0            1   \n",
       "Maruti Wagon R LXI Minor            0              0         0            1   \n",
       "Hyundai Verna 1.6 SX                1              0         0            0   \n",
       "Datsun RediGO T Option              0              0         0            1   \n",
       "Honda Amaze VX i-DTEC               1              0         0            0   \n",
       "\n",
       "                          seller_type_Dealer  seller_type_Individual  \\\n",
       "name                                                                   \n",
       "Maruti 800 AC                              0                       1   \n",
       "Maruti Wagon R LXI Minor                   0                       1   \n",
       "Hyundai Verna 1.6 SX                       0                       1   \n",
       "Datsun RediGO T Option                     0                       1   \n",
       "Honda Amaze VX i-DTEC                      0                       1   \n",
       "\n",
       "                          seller_type_Trustmark Dealer  \\\n",
       "name                                                     \n",
       "Maruti 800 AC                                        0   \n",
       "Maruti Wagon R LXI Minor                             0   \n",
       "Hyundai Verna 1.6 SX                                 0   \n",
       "Datsun RediGO T Option                               0   \n",
       "Honda Amaze VX i-DTEC                                0   \n",
       "\n",
       "                          transmission_Automatic  transmission_Manual  \n",
       "name                                                                   \n",
       "Maruti 800 AC                                  0                    1  \n",
       "Maruti Wagon R LXI Minor                       0                    1  \n",
       "Hyundai Verna 1.6 SX                           0                    1  \n",
       "Datsun RediGO T Option                         0                    1  \n",
       "Honda Amaze VX i-DTEC                          0                    1  "
      ]
     },
     "execution_count": 38,
     "metadata": {},
     "output_type": "execute_result"
    }
   ],
   "source": [
    "# We check the head for the dataset\n",
    "df.head()"
   ]
  },
  {
   "cell_type": "code",
   "execution_count": 39,
   "metadata": {},
   "outputs": [],
   "source": [
    "# We creat the different variables for \"Independent\" and \"Dependent\" columns\n",
    "X = df.drop(columns= 'selling_price',axis = 1)\n",
    "Y = df['selling_price']"
   ]
  },
  {
   "cell_type": "code",
   "execution_count": 40,
   "metadata": {},
   "outputs": [
    {
     "name": "stdout",
     "output_type": "stream",
     "text": [
      "Shape of X :  (4340, 13)\n",
      "Shape of Y :  (4340,)\n"
     ]
    }
   ],
   "source": [
    "# We print the shape of both the Variables\n",
    "print('Shape of X : ', X.shape)\n",
    "print('Shape of Y : ', Y.shape)"
   ]
  },
  {
   "cell_type": "code",
   "execution_count": 41,
   "metadata": {},
   "outputs": [],
   "source": [
    "# We import the library to split the data\n",
    "from sklearn.model_selection import train_test_split"
   ]
  },
  {
   "cell_type": "code",
   "execution_count": 42,
   "metadata": {},
   "outputs": [],
   "source": [
    "# We call the \"train_test_split\" class and given parameters\n",
    "X_train,X_test,Y_train,Y_test = train_test_split(X,Y,test_size = 0.2,random_state = 51)"
   ]
  },
  {
   "cell_type": "code",
   "execution_count": 43,
   "metadata": {},
   "outputs": [
    {
     "name": "stdout",
     "output_type": "stream",
     "text": [
      "Shape of X_train :  (3472, 13)\n",
      "Shape of X_test :  (868, 13)\n",
      "Shape of Y_train :  (3472,)\n",
      "Shape of Y_test :  (868,)\n"
     ]
    }
   ],
   "source": [
    "# We print the shape of all the Variables\n",
    "print('Shape of X_train : ', X_train.shape)\n",
    "print('Shape of X_test : ', X_test.shape)\n",
    "print('Shape of Y_train : ', Y_train.shape)\n",
    "print('Shape of Y_test : ', Y_test.shape)"
   ]
  },
  {
   "cell_type": "code",
   "execution_count": 44,
   "metadata": {},
   "outputs": [],
   "source": [
    "# We import the necessary library for \"Feature Scaling\"\n",
    "from sklearn.preprocessing import MinMaxScaler\n",
    "from sklearn.preprocessing import StandardScaler"
   ]
  },
  {
   "cell_type": "code",
   "execution_count": 45,
   "metadata": {},
   "outputs": [],
   "source": [
    "# We call the \"MinMaxScaler\" for feature scaling\n",
    "MMC = MinMaxScaler()\n",
    "MMC.fit(X_train)\n",
    "X_train = MMC.transform(X_train)\n",
    "X_test = MMC.transform(X_test)"
   ]
  },
  {
   "cell_type": "code",
   "execution_count": 46,
   "metadata": {},
   "outputs": [
    {
     "data": {
      "text/plain": [
       "array([[0.96428571, 0.00619887, 0.        , ..., 0.        , 0.        ,\n",
       "        1.        ],\n",
       "       [0.89285714, 0.03318378, 0.        , ..., 0.        , 0.        ,\n",
       "        1.        ],\n",
       "       [0.89285714, 0.06384833, 0.25      , ..., 0.        , 0.        ,\n",
       "        1.        ],\n",
       "       ...,\n",
       "       [0.67857143, 0.05346895, 0.        , ..., 0.        , 0.        ,\n",
       "        1.        ],\n",
       "       [0.67857143, 0.08058527, 0.25      , ..., 0.        , 0.        ,\n",
       "        1.        ],\n",
       "       [0.85714286, 0.04959094, 0.        , ..., 0.        , 0.        ,\n",
       "        1.        ]])"
      ]
     },
     "execution_count": 46,
     "metadata": {},
     "output_type": "execute_result"
    }
   ],
   "source": [
    "# We check the return values after Scaling\n",
    "X_train"
   ]
  },
  {
   "cell_type": "code",
   "execution_count": 47,
   "metadata": {},
   "outputs": [],
   "source": [
    "# We converted the scaled features into a dataframe\n",
    "X_train_MMC = pd.DataFrame(X_train,columns= ['year', 'km_driven', 'owner', 'fuel_CNG',\n",
    "       'fuel_Diesel', 'fuel_Electric', 'fuel_LPG', 'fuel_Petrol',\n",
    "       'seller_type_Dealer', 'seller_type_Individual',\n",
    "       'seller_type_Trustmark Dealer', 'transmission_Automatic',\n",
    "       'transmission_Manual'])"
   ]
  },
  {
   "cell_type": "code",
   "execution_count": 48,
   "metadata": {},
   "outputs": [
    {
     "data": {
      "text/html": [
       "<div>\n",
       "<style scoped>\n",
       "    .dataframe tbody tr th:only-of-type {\n",
       "        vertical-align: middle;\n",
       "    }\n",
       "\n",
       "    .dataframe tbody tr th {\n",
       "        vertical-align: top;\n",
       "    }\n",
       "\n",
       "    .dataframe thead th {\n",
       "        text-align: right;\n",
       "    }\n",
       "</style>\n",
       "<table border=\"1\" class=\"dataframe\">\n",
       "  <thead>\n",
       "    <tr style=\"text-align: right;\">\n",
       "      <th></th>\n",
       "      <th>year</th>\n",
       "      <th>km_driven</th>\n",
       "      <th>owner</th>\n",
       "      <th>fuel_CNG</th>\n",
       "      <th>fuel_Diesel</th>\n",
       "      <th>fuel_Electric</th>\n",
       "      <th>fuel_LPG</th>\n",
       "      <th>fuel_Petrol</th>\n",
       "      <th>seller_type_Dealer</th>\n",
       "      <th>seller_type_Individual</th>\n",
       "      <th>seller_type_Trustmark Dealer</th>\n",
       "      <th>transmission_Automatic</th>\n",
       "      <th>transmission_Manual</th>\n",
       "    </tr>\n",
       "  </thead>\n",
       "  <tbody>\n",
       "    <tr>\n",
       "      <th>0</th>\n",
       "      <td>0.964286</td>\n",
       "      <td>0.006199</td>\n",
       "      <td>0.00</td>\n",
       "      <td>0.0</td>\n",
       "      <td>1.0</td>\n",
       "      <td>0.0</td>\n",
       "      <td>0.0</td>\n",
       "      <td>0.0</td>\n",
       "      <td>0.0</td>\n",
       "      <td>1.0</td>\n",
       "      <td>0.0</td>\n",
       "      <td>0.0</td>\n",
       "      <td>1.0</td>\n",
       "    </tr>\n",
       "    <tr>\n",
       "      <th>1</th>\n",
       "      <td>0.892857</td>\n",
       "      <td>0.033184</td>\n",
       "      <td>0.00</td>\n",
       "      <td>0.0</td>\n",
       "      <td>1.0</td>\n",
       "      <td>0.0</td>\n",
       "      <td>0.0</td>\n",
       "      <td>0.0</td>\n",
       "      <td>1.0</td>\n",
       "      <td>0.0</td>\n",
       "      <td>0.0</td>\n",
       "      <td>0.0</td>\n",
       "      <td>1.0</td>\n",
       "    </tr>\n",
       "    <tr>\n",
       "      <th>2</th>\n",
       "      <td>0.892857</td>\n",
       "      <td>0.063848</td>\n",
       "      <td>0.25</td>\n",
       "      <td>0.0</td>\n",
       "      <td>1.0</td>\n",
       "      <td>0.0</td>\n",
       "      <td>0.0</td>\n",
       "      <td>0.0</td>\n",
       "      <td>0.0</td>\n",
       "      <td>1.0</td>\n",
       "      <td>0.0</td>\n",
       "      <td>0.0</td>\n",
       "      <td>1.0</td>\n",
       "    </tr>\n",
       "    <tr>\n",
       "      <th>3</th>\n",
       "      <td>0.714286</td>\n",
       "      <td>0.068188</td>\n",
       "      <td>0.25</td>\n",
       "      <td>0.0</td>\n",
       "      <td>1.0</td>\n",
       "      <td>0.0</td>\n",
       "      <td>0.0</td>\n",
       "      <td>0.0</td>\n",
       "      <td>0.0</td>\n",
       "      <td>1.0</td>\n",
       "      <td>0.0</td>\n",
       "      <td>0.0</td>\n",
       "      <td>1.0</td>\n",
       "    </tr>\n",
       "    <tr>\n",
       "      <th>4</th>\n",
       "      <td>1.000000</td>\n",
       "      <td>0.001240</td>\n",
       "      <td>0.00</td>\n",
       "      <td>0.0</td>\n",
       "      <td>0.0</td>\n",
       "      <td>0.0</td>\n",
       "      <td>0.0</td>\n",
       "      <td>1.0</td>\n",
       "      <td>0.0</td>\n",
       "      <td>1.0</td>\n",
       "      <td>0.0</td>\n",
       "      <td>0.0</td>\n",
       "      <td>1.0</td>\n",
       "    </tr>\n",
       "  </tbody>\n",
       "</table>\n",
       "</div>"
      ],
      "text/plain": [
       "       year  km_driven  owner  fuel_CNG  fuel_Diesel  fuel_Electric  fuel_LPG  \\\n",
       "0  0.964286   0.006199   0.00       0.0          1.0            0.0       0.0   \n",
       "1  0.892857   0.033184   0.00       0.0          1.0            0.0       0.0   \n",
       "2  0.892857   0.063848   0.25       0.0          1.0            0.0       0.0   \n",
       "3  0.714286   0.068188   0.25       0.0          1.0            0.0       0.0   \n",
       "4  1.000000   0.001240   0.00       0.0          0.0            0.0       0.0   \n",
       "\n",
       "   fuel_Petrol  seller_type_Dealer  seller_type_Individual  \\\n",
       "0          0.0                 0.0                     1.0   \n",
       "1          0.0                 1.0                     0.0   \n",
       "2          0.0                 0.0                     1.0   \n",
       "3          0.0                 0.0                     1.0   \n",
       "4          1.0                 0.0                     1.0   \n",
       "\n",
       "   seller_type_Trustmark Dealer  transmission_Automatic  transmission_Manual  \n",
       "0                           0.0                     0.0                  1.0  \n",
       "1                           0.0                     0.0                  1.0  \n",
       "2                           0.0                     0.0                  1.0  \n",
       "3                           0.0                     0.0                  1.0  \n",
       "4                           0.0                     0.0                  1.0  "
      ]
     },
     "execution_count": 48,
     "metadata": {},
     "output_type": "execute_result"
    }
   ],
   "source": [
    "# We check the head of the scaled dataframe\n",
    "X_train_MMC.head()"
   ]
  },
  {
   "cell_type": "code",
   "execution_count": 49,
   "metadata": {},
   "outputs": [],
   "source": [
    "# We converted the scaled features into a dataframe\n",
    "X_test_MMC = pd.DataFrame(X_test,columns= ['year', 'km_driven', 'owner', 'fuel_CNG',\n",
    "       'fuel_Diesel', 'fuel_Electric', 'fuel_LPG', 'fuel_Petrol',\n",
    "       'seller_type_Dealer', 'seller_type_Individual',\n",
    "       'seller_type_Trustmark Dealer', 'transmission_Automatic',\n",
    "       'transmission_Manual'])"
   ]
  },
  {
   "cell_type": "code",
   "execution_count": 50,
   "metadata": {},
   "outputs": [
    {
     "data": {
      "text/html": [
       "<div>\n",
       "<style scoped>\n",
       "    .dataframe tbody tr th:only-of-type {\n",
       "        vertical-align: middle;\n",
       "    }\n",
       "\n",
       "    .dataframe tbody tr th {\n",
       "        vertical-align: top;\n",
       "    }\n",
       "\n",
       "    .dataframe thead th {\n",
       "        text-align: right;\n",
       "    }\n",
       "</style>\n",
       "<table border=\"1\" class=\"dataframe\">\n",
       "  <thead>\n",
       "    <tr style=\"text-align: right;\">\n",
       "      <th></th>\n",
       "      <th>year</th>\n",
       "      <th>km_driven</th>\n",
       "      <th>owner</th>\n",
       "      <th>fuel_CNG</th>\n",
       "      <th>fuel_Diesel</th>\n",
       "      <th>fuel_Electric</th>\n",
       "      <th>fuel_LPG</th>\n",
       "      <th>fuel_Petrol</th>\n",
       "      <th>seller_type_Dealer</th>\n",
       "      <th>seller_type_Individual</th>\n",
       "      <th>seller_type_Trustmark Dealer</th>\n",
       "      <th>transmission_Automatic</th>\n",
       "      <th>transmission_Manual</th>\n",
       "    </tr>\n",
       "  </thead>\n",
       "  <tbody>\n",
       "    <tr>\n",
       "      <th>0</th>\n",
       "      <td>0.714286</td>\n",
       "      <td>0.099182</td>\n",
       "      <td>0.00</td>\n",
       "      <td>0.0</td>\n",
       "      <td>1.0</td>\n",
       "      <td>0.0</td>\n",
       "      <td>0.0</td>\n",
       "      <td>0.0</td>\n",
       "      <td>0.0</td>\n",
       "      <td>1.0</td>\n",
       "      <td>0.0</td>\n",
       "      <td>0.0</td>\n",
       "      <td>1.0</td>\n",
       "    </tr>\n",
       "    <tr>\n",
       "      <th>1</th>\n",
       "      <td>0.785714</td>\n",
       "      <td>0.070098</td>\n",
       "      <td>0.00</td>\n",
       "      <td>0.0</td>\n",
       "      <td>1.0</td>\n",
       "      <td>0.0</td>\n",
       "      <td>0.0</td>\n",
       "      <td>0.0</td>\n",
       "      <td>1.0</td>\n",
       "      <td>0.0</td>\n",
       "      <td>0.0</td>\n",
       "      <td>0.0</td>\n",
       "      <td>1.0</td>\n",
       "    </tr>\n",
       "    <tr>\n",
       "      <th>2</th>\n",
       "      <td>0.571429</td>\n",
       "      <td>0.111580</td>\n",
       "      <td>0.00</td>\n",
       "      <td>0.0</td>\n",
       "      <td>0.0</td>\n",
       "      <td>0.0</td>\n",
       "      <td>0.0</td>\n",
       "      <td>1.0</td>\n",
       "      <td>0.0</td>\n",
       "      <td>1.0</td>\n",
       "      <td>0.0</td>\n",
       "      <td>0.0</td>\n",
       "      <td>1.0</td>\n",
       "    </tr>\n",
       "    <tr>\n",
       "      <th>3</th>\n",
       "      <td>0.607143</td>\n",
       "      <td>0.136375</td>\n",
       "      <td>0.25</td>\n",
       "      <td>0.0</td>\n",
       "      <td>0.0</td>\n",
       "      <td>0.0</td>\n",
       "      <td>0.0</td>\n",
       "      <td>1.0</td>\n",
       "      <td>0.0</td>\n",
       "      <td>1.0</td>\n",
       "      <td>0.0</td>\n",
       "      <td>0.0</td>\n",
       "      <td>1.0</td>\n",
       "    </tr>\n",
       "    <tr>\n",
       "      <th>4</th>\n",
       "      <td>0.892857</td>\n",
       "      <td>0.050831</td>\n",
       "      <td>0.00</td>\n",
       "      <td>0.0</td>\n",
       "      <td>1.0</td>\n",
       "      <td>0.0</td>\n",
       "      <td>0.0</td>\n",
       "      <td>0.0</td>\n",
       "      <td>0.0</td>\n",
       "      <td>1.0</td>\n",
       "      <td>0.0</td>\n",
       "      <td>0.0</td>\n",
       "      <td>1.0</td>\n",
       "    </tr>\n",
       "  </tbody>\n",
       "</table>\n",
       "</div>"
      ],
      "text/plain": [
       "       year  km_driven  owner  fuel_CNG  fuel_Diesel  fuel_Electric  fuel_LPG  \\\n",
       "0  0.714286   0.099182   0.00       0.0          1.0            0.0       0.0   \n",
       "1  0.785714   0.070098   0.00       0.0          1.0            0.0       0.0   \n",
       "2  0.571429   0.111580   0.00       0.0          0.0            0.0       0.0   \n",
       "3  0.607143   0.136375   0.25       0.0          0.0            0.0       0.0   \n",
       "4  0.892857   0.050831   0.00       0.0          1.0            0.0       0.0   \n",
       "\n",
       "   fuel_Petrol  seller_type_Dealer  seller_type_Individual  \\\n",
       "0          0.0                 0.0                     1.0   \n",
       "1          0.0                 1.0                     0.0   \n",
       "2          1.0                 0.0                     1.0   \n",
       "3          1.0                 0.0                     1.0   \n",
       "4          0.0                 0.0                     1.0   \n",
       "\n",
       "   seller_type_Trustmark Dealer  transmission_Automatic  transmission_Manual  \n",
       "0                           0.0                     0.0                  1.0  \n",
       "1                           0.0                     0.0                  1.0  \n",
       "2                           0.0                     0.0                  1.0  \n",
       "3                           0.0                     0.0                  1.0  \n",
       "4                           0.0                     0.0                  1.0  "
      ]
     },
     "execution_count": 50,
     "metadata": {},
     "output_type": "execute_result"
    }
   ],
   "source": [
    "# We check the head of the scaled dataframe\n",
    "X_test_MMC.head()"
   ]
  },
  {
   "cell_type": "code",
   "execution_count": 51,
   "metadata": {},
   "outputs": [],
   "source": [
    "# We import the necessary libraries for feature selection\n",
    "from sklearn.linear_model import Ridge, Lasso"
   ]
  },
  {
   "cell_type": "code",
   "execution_count": 52,
   "metadata": {},
   "outputs": [],
   "source": [
    "# We import the necessary libraries for feature selection\n",
    "from sklearn.feature_selection import SelectFromModel"
   ]
  },
  {
   "cell_type": "code",
   "execution_count": 53,
   "metadata": {},
   "outputs": [],
   "source": [
    "# We call the class and started feature selection with Lasso\n",
    "sel_from_feat = SelectFromModel(Lasso(alpha= 0.005, random_state = 51))"
   ]
  },
  {
   "cell_type": "code",
   "execution_count": 54,
   "metadata": {},
   "outputs": [
    {
     "name": "stderr",
     "output_type": "stream",
     "text": [
      "C:\\Users\\HP ELITEBOOK 810 G3\\anaconda3\\lib\\site-packages\\sklearn\\linear_model\\_coordinate_descent.py:529: ConvergenceWarning: Objective did not converge. You might want to increase the number of iterations. Duality gap: 93785461602422.81, tolerance: 145234417934.1411\n",
      "  model = cd_fast.enet_coordinate_descent(\n"
     ]
    },
    {
     "data": {
      "text/plain": [
       "SelectFromModel(estimator=Lasso(alpha=0.005, random_state=51))"
      ]
     },
     "execution_count": 54,
     "metadata": {},
     "output_type": "execute_result"
    }
   ],
   "source": [
    "# We fit the data\n",
    "sel_from_feat.fit(X, Y)"
   ]
  },
  {
   "cell_type": "code",
   "execution_count": 55,
   "metadata": {},
   "outputs": [
    {
     "data": {
      "text/plain": [
       "array([ True,  True,  True,  True,  True,  True,  True,  True,  True,\n",
       "        True,  True,  True, False])"
      ]
     },
     "execution_count": 55,
     "metadata": {},
     "output_type": "execute_result"
    }
   ],
   "source": [
    "# We check the features which should be selected\n",
    "sel_from_feat.get_support()"
   ]
  },
  {
   "cell_type": "code",
   "execution_count": 56,
   "metadata": {},
   "outputs": [],
   "source": [
    "# We import the necessary library for MSE and RMSE\n",
    "from sklearn.metrics import mean_squared_error"
   ]
  },
  {
   "cell_type": "code",
   "execution_count": 57,
   "metadata": {},
   "outputs": [],
   "source": [
    "# We import the Polynomial regression from ScikitLearn\n",
    "from sklearn.preprocessing import PolynomialFeatures"
   ]
  },
  {
   "cell_type": "code",
   "execution_count": 58,
   "metadata": {},
   "outputs": [],
   "source": [
    "# We call the polynomial regression and \"fit_transform\" the data\n",
    "poly_reg = PolynomialFeatures(degree = 3)\n",
    "poly_reg.fit(X_train)\n",
    "X_train_poly = poly_reg.transform(X_train)\n",
    "X_test_poly = poly_reg.transform(X_test)"
   ]
  },
  {
   "cell_type": "code",
   "execution_count": 59,
   "metadata": {},
   "outputs": [
    {
     "data": {
      "text/plain": [
       "((3472, 560), (868, 560))"
      ]
     },
     "execution_count": 59,
     "metadata": {},
     "output_type": "execute_result"
    }
   ],
   "source": [
    "# We check the shape after increasing the degree\n",
    "X_train_poly.shape , X_test_poly.shape"
   ]
  },
  {
   "cell_type": "code",
   "execution_count": 60,
   "metadata": {},
   "outputs": [],
   "source": [
    "# We import the linear regression from scikit learn\n",
    "from sklearn.linear_model import LinearRegression"
   ]
  },
  {
   "cell_type": "code",
   "execution_count": 61,
   "metadata": {},
   "outputs": [],
   "source": [
    "# We call the linear Regression\n",
    "lr = LinearRegression()"
   ]
  },
  {
   "cell_type": "code",
   "execution_count": 62,
   "metadata": {
    "scrolled": true
   },
   "outputs": [
    {
     "data": {
      "text/plain": [
       "LinearRegression()"
      ]
     },
     "execution_count": 62,
     "metadata": {},
     "output_type": "execute_result"
    }
   ],
   "source": [
    "# We fit the linear regression on the train dataset \n",
    "lr.fit(X_train_poly,Y_train)"
   ]
  },
  {
   "cell_type": "code",
   "execution_count": 63,
   "metadata": {},
   "outputs": [
    {
     "data": {
      "text/plain": [
       "array([-4.72347189e-07,  7.17186658e+16, -2.80705466e+16, -1.02514494e+17,\n",
       "       -4.61965877e+17,  5.94200960e+16,  2.09417631e+17, -6.14945787e+16,\n",
       "       -2.47422246e+17, -7.31198547e+16, -1.91388383e+18, -2.96229634e+17,\n",
       "       -2.06718061e+17,  4.06729158e+16,  9.25511660e+16, -1.87796909e+17,\n",
       "        1.40076630e+17,  6.99389919e+16,  9.16881590e+16, -2.38529411e+16,\n",
       "        4.83342118e+15, -1.36959826e+16, -8.64462759e+16, -1.14204998e+16,\n",
       "        1.01996686e+16, -7.34970534e+16, -8.46911628e+16, -1.92824147e+15,\n",
       "        3.54525394e+15,  1.74530628e+16, -5.23938945e+15, -1.56037435e+16,\n",
       "        2.02132904e+16,  2.70057281e+15,  4.72277944e+16,  4.34471780e+15,\n",
       "       -9.66311423e+14, -7.81338322e+15, -2.62092794e+16,  4.00549875e+16,\n",
       "        3.76232544e+16,  3.72914620e+16,  1.68293138e+16,  1.24435537e+16,\n",
       "        2.87372060e+16,  1.29766794e+16,  4.44143446e+16,  3.12758547e+15,\n",
       "        6.02596914e+15, -7.18165212e+16,  7.85404440e+16,  5.25895320e+15,\n",
       "        6.61680364e+15, -7.29356278e+15, -5.85550760e+15, -5.63593872e+16,\n",
       "        5.01666158e+16, -7.62472607e+15,  4.70137602e+15,  6.09460241e+16,\n",
       "       -9.70985869e+16, -8.44879918e+15, -4.63418534e+15,  7.35189951e+14,\n",
       "       -7.40608829e+16, -1.06864126e+16, -8.27445850e+16,  7.58480238e+16,\n",
       "        6.87725871e+16, -2.63564755e+16,  1.51410955e+15, -2.32892794e+15,\n",
       "       -2.79753698e+16, -3.27491411e+15,  4.75376702e+14, -2.68300369e+16,\n",
       "        2.10171260e+15,  1.17734107e+16,  3.18295529e+14, -5.64616826e+16,\n",
       "        3.81776091e+16,  1.39337016e+15, -2.38090845e+14,  1.16875121e+16,\n",
       "        1.93825579e+17, -8.08154830e+16, -3.00151704e+16,  5.36051235e+15,\n",
       "       -4.15203303e+15, -1.44911900e+17, -2.38320383e+17, -1.30567953e+14,\n",
       "        3.39554839e+13,  7.66842222e+16, -4.00548304e+16,  1.48982706e+17,\n",
       "       -1.16076062e+14,  2.81092330e+17,  1.69854823e+17, -1.39280155e+17,\n",
       "       -1.29071104e+16, -6.07874519e+16, -7.33580388e+16,  1.08288292e+14,\n",
       "        2.10110630e+16, -1.37349600e+06, -1.09803160e+07, -7.71140000e+05,\n",
       "        3.40577031e+16,  3.40577031e+16, -6.77192561e+15,  3.40577031e+16,\n",
       "        3.40577031e+16, -1.87326356e+17, -1.87326356e+17, -1.87326356e+17,\n",
       "        6.07174870e+16,  6.07174870e+16, -6.95069700e+06,  3.80989400e+06,\n",
       "        3.99006195e+16,  3.99006195e+16, -1.24207720e+15,  3.99006195e+16,\n",
       "        3.99006195e+16,  6.43130017e+16,  6.43130017e+16,  6.43130018e+16,\n",
       "        8.35832882e+16,  8.35832882e+16, -3.02028000e+05, -1.38327088e+16,\n",
       "       -1.38327088e+16, -3.38596281e+15, -1.38327088e+16, -1.38327088e+16,\n",
       "       -5.06170854e+16, -5.06170854e+16,  1.36650231e+16, -7.56268355e+16,\n",
       "       -7.56268355e+16,  4.35579593e+16,  0.00000000e+00,  0.00000000e+00,\n",
       "        0.00000000e+00,  0.00000000e+00,  2.85679765e+16, -6.35309826e+16,\n",
       "        0.00000000e+00,  0.00000000e+00,  4.35579593e+16,  5.18615708e+16,\n",
       "        0.00000000e+00,  0.00000000e+00,  0.00000000e+00,  2.02319646e+16,\n",
       "       -7.18669945e+16, -1.03175911e+17,  5.91588302e+16,  2.18411927e+16,\n",
       "       -1.35438512e+16,  0.00000000e+00,  0.00000000e+00, -1.35438512e+16,\n",
       "        0.00000000e+00,  0.00000000e+00, -1.35438512e+16,  0.00000000e+00,\n",
       "        1.24358561e+16,  0.00000000e+00, -4.15317836e+16,  6.38187945e+16,\n",
       "        0.00000000e+00,  0.00000000e+00,  1.24358561e+16,  7.90181405e+16,\n",
       "        1.76928113e+17,  8.48291535e+16,  5.35202372e+16, -1.93097460e+16,\n",
       "       -5.66273835e+16, -8.75950285e+16,  0.00000000e+00,  0.00000000e+00,\n",
       "        5.88352838e+16,  5.09057257e+16,  1.71153094e+16,  0.00000000e+00,\n",
       "       -2.88018710e+16, -3.67314292e+16,  1.20895490e+16, -1.40873626e+16,\n",
       "       -2.20169208e+16, -1.05956116e+17,  0.00000000e+00, -4.95148114e+16,\n",
       "       -1.62593250e+07, -3.34942650e+06, -1.16884201e+16, -1.16884201e+16,\n",
       "       -5.54651302e+13, -1.16884201e+16, -1.16884201e+16,  8.73252177e+15,\n",
       "        8.73252177e+15,  8.73252193e+15,  4.88413990e+15,  4.88413985e+15,\n",
       "       -4.95466250e+06,  3.77331210e+15,  3.77331210e+15, -6.21038601e+14,\n",
       "        3.77331210e+15,  3.77331210e+15,  6.03216910e+14,  6.03216909e+14,\n",
       "        7.19549591e+14, -7.92178294e+15, -7.92178295e+15,  6.14335454e+15,\n",
       "        0.00000000e+00,  0.00000000e+00,  0.00000000e+00,  0.00000000e+00,\n",
       "       -1.82168420e+16,  2.25354009e+16,  0.00000000e+00,  0.00000000e+00,\n",
       "        6.14335454e+15,  1.46841063e+16,  0.00000000e+00,  0.00000000e+00,\n",
       "        0.00000000e+00, -3.97916619e+15,  3.67730767e+16,  1.80160970e+16,\n",
       "       -5.68316499e+15,  6.05737924e+15, -2.48415440e+15,  0.00000000e+00,\n",
       "        0.00000000e+00, -2.48415440e+15,  0.00000000e+00,  0.00000000e+00,\n",
       "       -2.48415440e+15,  0.00000000e+00,  8.58235794e+15,  0.00000000e+00,\n",
       "       -4.02290802e+15,  1.48971665e+16,  0.00000000e+00,  0.00000000e+00,\n",
       "        8.58235794e+15,  2.64984691e+16, -1.10501253e+16,  2.97021176e+16,\n",
       "        1.09451379e+16, -1.83665310e+16, -6.62598673e+15,  4.08951947e+16,\n",
       "        0.00000000e+00,  0.00000000e+00, -3.14311506e+16, -3.12810826e+16,\n",
       "        1.72680659e+16,  0.00000000e+00, -5.67318807e+15, -5.52312005e+15,\n",
       "        2.33580665e+16,  1.23048201e+16,  1.24548881e+16, -2.05902943e+16,\n",
       "        0.00000000e+00, -1.40850103e+16,  7.65720000e+04,  9.83557852e+15,\n",
       "        9.83557852e+15, -1.69298140e+15,  9.83557852e+15,  9.83557852e+15,\n",
       "        8.37422574e+14,  8.37422573e+14,  3.08623599e+15, -5.07279886e+16,\n",
       "       -5.07279886e+16,  1.24598790e+16,  0.00000000e+00,  0.00000000e+00,\n",
       "        0.00000000e+00,  0.00000000e+00,  1.68767485e+16, -1.02110375e+16,\n",
       "        0.00000000e+00,  0.00000000e+00,  1.40379785e+16,  2.13250057e+16,\n",
       "        0.00000000e+00,  0.00000000e+00,  0.00000000e+00,  1.29010963e+16,\n",
       "       -1.41866897e+16, -4.20865975e+15, -1.66576162e+16,  9.48029634e+15,\n",
       "       -6.77192561e+15,  0.00000000e+00,  0.00000000e+00, -6.77192561e+15,\n",
       "        0.00000000e+00,  0.00000000e+00, -6.77192561e+15,  0.00000000e+00,\n",
       "        1.38221736e+16,  0.00000000e+00,  0.00000000e+00,  1.38221736e+16,\n",
       "        0.00000000e+00,  0.00000000e+00,  1.38221736e+16, -1.10688749e+16,\n",
       "        3.92145157e+16,  1.21267297e+16,  1.98111650e+16, -2.02289889e+15,\n",
       "        2.41150136e+16,  3.96930934e+16,  0.00000000e+00,  0.00000000e+00,\n",
       "        1.14111880e+16,  1.02686788e+17,  6.05008699e+16,  0.00000000e+00,\n",
       "       -1.37464677e+16,  7.75291320e+16,  1.23449439e+16,  1.23449439e+16,\n",
       "        0.00000000e+00, -2.24523840e+16,  0.00000000e+00, -6.20234058e+16,\n",
       "        6.11232321e+16,  0.00000000e+00,  0.00000000e+00,  0.00000000e+00,\n",
       "        0.00000000e+00, -4.43759351e+16,  7.62692790e+16,  0.00000000e+00,\n",
       "        0.00000000e+00,  6.11232321e+16,  0.00000000e+00,  0.00000000e+00,\n",
       "        0.00000000e+00,  0.00000000e+00,  0.00000000e+00,  0.00000000e+00,\n",
       "        0.00000000e+00,  0.00000000e+00,  0.00000000e+00,  0.00000000e+00,\n",
       "        0.00000000e+00,  0.00000000e+00,  0.00000000e+00,  0.00000000e+00,\n",
       "        0.00000000e+00,  0.00000000e+00,  0.00000000e+00,  0.00000000e+00,\n",
       "        0.00000000e+00,  0.00000000e+00,  0.00000000e+00,  0.00000000e+00,\n",
       "        0.00000000e+00,  0.00000000e+00,  0.00000000e+00,  0.00000000e+00,\n",
       "        0.00000000e+00,  0.00000000e+00,  0.00000000e+00,  0.00000000e+00,\n",
       "       -4.43759351e+16,  0.00000000e+00,  0.00000000e+00,  0.00000000e+00,\n",
       "       -4.43759351e+16,  7.62692790e+16,  0.00000000e+00,  0.00000000e+00,\n",
       "        7.62692790e+16,  0.00000000e+00,  0.00000000e+00,  0.00000000e+00,\n",
       "        0.00000000e+00,  0.00000000e+00,  6.11232321e+16, -9.73856464e+16,\n",
       "        0.00000000e+00,  0.00000000e+00,  0.00000000e+00, -8.44916610e+16,\n",
       "        4.75344492e+15, -1.37766676e+16,  1.05348862e+17,  1.58253067e+16,\n",
       "        0.00000000e+00,  0.00000000e+00,  0.00000000e+00,  0.00000000e+00,\n",
       "        0.00000000e+00,  0.00000000e+00,  0.00000000e+00,  0.00000000e+00,\n",
       "        0.00000000e+00,  0.00000000e+00,  0.00000000e+00,  0.00000000e+00,\n",
       "        0.00000000e+00,  0.00000000e+00,  0.00000000e+00,  0.00000000e+00,\n",
       "        0.00000000e+00,  0.00000000e+00,  0.00000000e+00,  0.00000000e+00,\n",
       "        0.00000000e+00, -8.44916610e+16,  0.00000000e+00,  0.00000000e+00,\n",
       "       -1.13981541e+17, -5.09117628e+16,  4.75344492e+15,  0.00000000e+00,\n",
       "        1.17908225e+17,  1.75685200e+17, -1.37766676e+16,  2.49641103e+16,\n",
       "       -9.08698325e+16,  1.05348862e+17,  0.00000000e+00,  1.58253067e+16,\n",
       "       -2.70877024e+16,  0.00000000e+00,  0.00000000e+00, -2.70877024e+16,\n",
       "        0.00000000e+00,  0.00000000e+00, -2.70877024e+16,  0.00000000e+00,\n",
       "        0.00000000e+00,  0.00000000e+00,  0.00000000e+00,  0.00000000e+00,\n",
       "        0.00000000e+00,  0.00000000e+00,  0.00000000e+00,  0.00000000e+00,\n",
       "        0.00000000e+00,  0.00000000e+00,  0.00000000e+00,  0.00000000e+00,\n",
       "        0.00000000e+00, -2.70877024e+16,  0.00000000e+00,  0.00000000e+00,\n",
       "       -2.70877024e+16,  0.00000000e+00,  0.00000000e+00,  0.00000000e+00,\n",
       "        0.00000000e+00,  0.00000000e+00,  0.00000000e+00,  0.00000000e+00,\n",
       "        0.00000000e+00, -2.70877024e+16,  0.00000000e+00,  0.00000000e+00,\n",
       "        1.12651531e+16,  0.00000000e+00, -4.74395090e+16,  3.53084427e+16,\n",
       "        0.00000000e+00,  0.00000000e+00,  1.12651531e+16,  0.00000000e+00,\n",
       "        0.00000000e+00,  0.00000000e+00,  0.00000000e+00,  0.00000000e+00,\n",
       "        0.00000000e+00, -4.74395090e+16,  0.00000000e+00,  0.00000000e+00,\n",
       "        0.00000000e+00, -4.74395090e+16,  3.53084427e+16,  0.00000000e+00,\n",
       "        0.00000000e+00,  3.53084427e+16,  0.00000000e+00,  0.00000000e+00,\n",
       "        0.00000000e+00,  0.00000000e+00,  0.00000000e+00,  1.12651531e+16,\n",
       "        1.93654891e+17, -7.98578864e+16, -2.92518094e+16,  5.28561529e+15,\n",
       "       -3.98037917e+15, -1.45206123e+17, -7.98578864e+16,  0.00000000e+00,\n",
       "        0.00000000e+00, -9.29583128e+16,  2.07200272e+17, -2.92518094e+16,\n",
       "        0.00000000e+00,  2.28783669e+17,  5.23649451e+17,  5.28561529e+15,\n",
       "       -7.77293750e+16,  4.35254889e+16, -3.98037917e+15,  0.00000000e+00,\n",
       "       -1.45206123e+17, -2.38571986e+17,  0.00000000e+00,  0.00000000e+00,\n",
       "        5.79263389e+16, -4.02434903e+16,  0.00000000e+00,  0.00000000e+00,\n",
       "        0.00000000e+00,  0.00000000e+00,  0.00000000e+00,  0.00000000e+00,\n",
       "        0.00000000e+00,  5.79263389e+16,  0.00000000e+00, -4.02434903e+16,\n",
       "        1.49172576e+17,  0.00000000e+00,  2.51703221e+17,  1.53429021e+17,\n",
       "        0.00000000e+00,  0.00000000e+00,  0.00000000e+00,  2.51703221e+17,\n",
       "        0.00000000e+00,  1.53429021e+17, -1.39364878e+17, -2.06927417e+16,\n",
       "       -6.38400658e+16, -2.06927417e+16,  0.00000000e+00, -6.38400658e+16,\n",
       "       -7.33938104e+16,  0.00000000e+00,  0.00000000e+00,  2.09775904e+16])"
      ]
     },
     "execution_count": 63,
     "metadata": {},
     "output_type": "execute_result"
    }
   ],
   "source": [
    "# We check the coeficient after implementing the model\n",
    "lr.coef_"
   ]
  },
  {
   "cell_type": "code",
   "execution_count": 64,
   "metadata": {},
   "outputs": [
    {
     "data": {
      "text/plain": [
       "9.164893706316198e+17"
      ]
     },
     "execution_count": 64,
     "metadata": {},
     "output_type": "execute_result"
    }
   ],
   "source": [
    "# We check the intercept\n",
    "lr.intercept_"
   ]
  },
  {
   "cell_type": "code",
   "execution_count": 65,
   "metadata": {},
   "outputs": [
    {
     "data": {
      "text/plain": [
       "0.6402661167763781"
      ]
     },
     "execution_count": 65,
     "metadata": {},
     "output_type": "execute_result"
    }
   ],
   "source": [
    "# We check the score for knowing the accuracy\n",
    "lr.score(X_test_poly,Y_test)"
   ]
  },
  {
   "cell_type": "code",
   "execution_count": 66,
   "metadata": {},
   "outputs": [
    {
     "data": {
      "text/plain": [
       "array([361600.])"
      ]
     },
     "execution_count": 66,
     "metadata": {},
     "output_type": "execute_result"
    }
   ],
   "source": [
    "# We predict the price of one item\n",
    "lr.predict(X_test_poly[:1])"
   ]
  },
  {
   "cell_type": "code",
   "execution_count": 67,
   "metadata": {},
   "outputs": [
    {
     "data": {
      "text/plain": [
       "name\n",
       "Hyundai i20 Magna Optional 1.4 CRDi    350000\n",
       "Name: selling_price, dtype: int64"
      ]
     },
     "execution_count": 67,
     "metadata": {},
     "output_type": "execute_result"
    }
   ],
   "source": [
    "# We check the price of the same item to get the idea about the accuracy\n",
    "Y_test[:1]"
   ]
  },
  {
   "cell_type": "code",
   "execution_count": 68,
   "metadata": {},
   "outputs": [
    {
     "data": {
      "text/plain": [
       "array([ 361728.,  506368.,  136576.,  183936.,  745472.,  443904.,\n",
       "        430720.,  243072.,  492288.,  291840.,  124672.,  562048.,\n",
       "        358784.,  443904.,  648576.,  257664.,  454528.,  785536.,\n",
       "        888960.,  513536., 2596736.,  503808.,  401664.,  414208.,\n",
       "        387584.,  611840.,  446592.,  404224.,  401664.,  184320.,\n",
       "        785536.,  800256.,  331136.,   24576.,  493824.,  617856.,\n",
       "        441600.,  435840.,  283648.,  112128.,  345088.,  149248.,\n",
       "        430080.,  476288.,  503808.,  376832.,  349184.,  414464.,\n",
       "        708480.,  345344.,  320256.,  435200.,  998656.,  363392.,\n",
       "        361472.,  651520.,  275456.,  401664.,  396672.,  788480.,\n",
       "        623616.,  395136.,  445184.,  279040.,  277632.,  226816.,\n",
       "        126976.,  584192.,  460416.,  565120.,  443904.,  168192.,\n",
       "       3386496.,  152320.,  137728.,  529152., 3502208.,  363392.,\n",
       "        368384.,  284672.,  289024., 2295296.,  623616.,  225920.,\n",
       "        991488.,  405632.,  756608.,  566912.,  230784.,   93184.,\n",
       "        640128.,  123648.,  257664.,  756224.,  238592.,  100608.,\n",
       "       2507008.,   88576.,   67840.,  448384.,  516352.,  166144.,\n",
       "        126720., 2695808.,  629504.,  387072.,  430080.,  544128.,\n",
       "        887040.,  273664.,  585344.,  565120.,  418432.,  681088.,\n",
       "        991360.,  155008.,  534528.,  283648.,  141312.,  264576.,\n",
       "        396160.,   96768.,  288512.,  480896.,  455296.,  363776.,\n",
       "        348928.,  970496., 2001152.,  168448.,  319744.,  312960.,\n",
       "       1163648.,  363776.,  113920.,  348928.,  517888.,  732160.,\n",
       "        445184.,  600576.,  551424.,  291840.,  363648.,  313216.,\n",
       "         94592.,  212736.,  526720.,  349312.,  578048.,  816640.,\n",
       "       1968128.,  174848.,  483584.,  487424., 2596736.,  743552.,\n",
       "       1357056.,   94592.,   88192.,  544128.,  238720.,  142848.,\n",
       "        250624.,  417024.,  371840.,  254592.,  402432.,  272640.,\n",
       "        443904.,  157696.,  737536.,  404352.,  184192.,  372864.,\n",
       "        732160.,  456192.,  819072.,  396544.,  684416.,  308864.,\n",
       "        147968.,  383616.,  474240.,  182912.,  503808.,   77568.,\n",
       "        312960.,  115200.,  497408.,  336896., 1135360.,  232448.,\n",
       "        360832.,  474240.,  312960.,  569728.,  517888.,  546304.,\n",
       "        161024.,  407936.,  702592.,  765184.,  272000.,  144128.,\n",
       "       1005056.,  470784.,  772352., 1717248., 1004544.,  395648.,\n",
       "        696064.,  516352.,  452352.,  566528.,  114944.,  379904.,\n",
       "        438144., 1134080.,  225920.,  401664.,  584320.,  264576.,\n",
       "        362624.,  123648.,  255744.,  235264.,  747008.,  351744.,\n",
       "        694912.,  290048.,  231680.,   68736.,  360960.,  904320.,\n",
       "        445440.,  747008.,  136192.,  193920.,  655104.,  312960.,\n",
       "        370944.,  596096.,  395904.,  628096.,  100096.,  170112.,\n",
       "        354560.,  873856.,  401920.,  665728.,  345088.,  417792.,\n",
       "        431872.,  696064.,  169472.,  564096.,  541312.,  969984.,\n",
       "        238080.,  197760.,  347392.,  557696.,  397824.,  428288.,\n",
       "        320768.,  367360.,  307200.,  297088.,  841984.,  456448.,\n",
       "        632832.,  197632.,  236032.,  640128.,  418944.,  500352.,\n",
       "        629248.,   86016., 1742080.,  209792.,  350208.,   81920.,\n",
       "        228864.,  168448.,  816640.,  843136.,  376832.,  495360.,\n",
       "        629504.,  256384.,  288768.,  150784.,  501248.,  645632.,\n",
       "        375936.,  420736.,  385024.,  184192.,  419328.,  816896.,\n",
       "        904320.,  493824.,  432000.,  417920., 3386496.,  531328.,\n",
       "        559232.,  288256.,  960384.,  372864.,  564736.,  319232.,\n",
       "       1287040.,  137728.,  476288.,  193664.,  162048.,  547456.,\n",
       "       1680384.,  418560.,  316800.,  691712.,  666112.,  924928.,\n",
       "        174336.,  148096.,  166656.,  713984.,  512512.,  310144.,\n",
       "        763520.,  331904.,  154240.,  308736.,  430080.,  561024.,\n",
       "        175488.,  229248.,  475008.,  309248.,  256896.,  191104.,\n",
       "        618240.,  185344.,  445952.,  118400.,  534144.,  215552.,\n",
       "        305152.,  361472.,  275456.,  705408.,  387072.,  298752.,\n",
       "        116992.,  487424.,  705792.,  262912.,  486912.,  209792.,\n",
       "        134144.,  551936.,  169728.,  210944.,  483840.,  266496.,\n",
       "        154624.,  346240.,  843136.,  743552.,  257792.,  305152.,\n",
       "       1027584.,  155392.,  275456.,  351104.,  732160.,  354560.,\n",
       "        781696.,  556288.,  114432.,  421504.,  220544.,  460416.,\n",
       "        402432., 3502208.,   52480.,  157312.,  333952.,  115200.,\n",
       "        492288.,  394880.,  618240.,  458880.,  523648.,  486656.,\n",
       "        240640.,  134144.,  233728.,   66560.,  473600.,  385408.,\n",
       "        577152.,  219392.,  803840.,  480512.,  818432.,  320640.,\n",
       "        763520.,  402432.,  358656.,  691712.,  243712., 1055744.,\n",
       "        396160.,  239616.,  417280.,  107008.,  134912.,  434816.,\n",
       "        349312.,  372864., 1985280., 1025024.,  173312.,  158080.,\n",
       "        166144.,  681088.,  431872.,  278656.,  217856.,  428288.,\n",
       "        162048.,  213888.,  187136.,  794880.,  587904.,  114432.,\n",
       "        378112., 1664256.,  504320.,  417792.,  531072., 1409280.,\n",
       "       1030912.,  617856.,  361600.,  467840.,  381952.,   30080.,\n",
       "       2512512.,  386816.,  346112.,  265216.,  577664.,  409088.,\n",
       "        411648.,  184192., 1664256.,  336128.,   75520.,  450304.,\n",
       "        740864.,  211456., 3654272.,  715776.,  709888.,  333056.,\n",
       "        654080.,  407936.,  110080.,  745728.,  345344.,  417792.,\n",
       "        445184.,  209664.,  336640.,  447872.,  189440.,  559744.,\n",
       "        116992.,  785536.,  135296.,  274176.,  348416.,  366336.,\n",
       "        744960.,  747008.,  224768.,  685952.,  141824.,  557312.,\n",
       "        545920.,  114944.,  340864.,  477568.,  545920.,  535936.,\n",
       "       1032320.,  570752.,  487424.,  -23552.,  129664.,  843136.,\n",
       "       1636992.,  186368.,  640128.,  362240.,  399104.,  105728.,\n",
       "        373760.,  326784.,  685952.,   48000.,  520960.,  373632.,\n",
       "       3606656.,  370944.,  240128.,  716800.,  465024.,  215680.,\n",
       "        395648.,  193280.,  231680.,  558848.,  255616.,  853248.,\n",
       "        256896.,  597760.,  688896.,  199040.,  758784.,  309504.,\n",
       "        144256.,  471808.,  834176., 1153408.,  236032.,  439680.,\n",
       "        445952.,  226944.,   51584.,  345344.,  630144.,  371712.,\n",
       "        507904.,  157184., 1091328., 1418240.,  129664., 1490688.,\n",
       "        359936.,  164352.,  440704.,  282624.,  394880.,  565760.,\n",
       "        152960.,  401664.,  140544.,  316160.,  732928.,  569600.,\n",
       "        182528.,  213120.,   76672.,  266240.,  335104.,  360832.,\n",
       "        358144.,  430080.,  275456.,  615680.,  338688.,  292224.,\n",
       "        277632.,  592128.,  422016.,  863104.,  763648.,  288000.,\n",
       "        182912.,  562688.,  288256.,  256896.,  438016.,  358784.,\n",
       "        718208.,  469248.,  319744.,  347392.,  212352.,  396672.,\n",
       "        516864.,  754944.,  361472.,  226176.,  625408.,  661760.,\n",
       "        407936.,  412928.,  185216.,  420736.,  360832.,  147968.,\n",
       "        224768.,  427264.,  607616.,  415488.,  473344.,  395136.,\n",
       "        574464.,  483840.,  676352.,  226816.,  307200.,  488704.,\n",
       "        591488.,  325888.,  275456.,  126464., 3293312.,  335360.,\n",
       "        320128.,  362240.,   67840.,  335360.,  162048.,  621312.,\n",
       "        123264.,  275456.,  234240.,  515712., 1985280.,  333184.,\n",
       "        232704.,  358784.,    4864.,  424064.,  731520.,  344704.,\n",
       "        434688.,  194432.,  998656.,  460416.,  345600.,  406272.,\n",
       "        311808.,  345600.,  464384.,  215424.,  671232.,  366464.,\n",
       "        308352.,   90368.,  772352.,  343552.,  -12416.,  144384.,\n",
       "        201984.,  365824., 1354240.,  345344.,  368384.,  388352.,\n",
       "        311040.,  763520.,  681088.,  914176.,  141568.,  193536.,\n",
       "        665984.,  445312.,  106112.,  185344.,  256896., 2564096.,\n",
       "        370048.,  541312.,  790528.,  367744.,  310784.,  362240.,\n",
       "        960640.,  149248.,  360576., 1122432.,  233216.,  697600.,\n",
       "         78208.,  465024.,  551936.,  609024.,  517888.,  139008.,\n",
       "        114944.,  525312.,   97536.,  358784.,  826368.,  162560.,\n",
       "        283264.,  511360.,  162560.,  288000., 1099648.,  574464.,\n",
       "        411264.,  197632.,  614912.,  142848.,  123648.,  266496.,\n",
       "        648576.,  419328.,  454656.,  331904.,  221184.,   53248.,\n",
       "       1807872.,  272384.,  595456.,   99968.,  176640.,  493568.,\n",
       "        189056.,  305152.,  135424.,  802048.,  362240.,  574592.,\n",
       "        618240.,  144128.,  316416.,  792576.,  187136.,  767104.,\n",
       "        105728., 1006592.,   62208.,   53760.,  448128.,  287488.,\n",
       "        425728.,  841728.,  541440.,  333184.,  245760.,  515584.,\n",
       "        494336.,  417792.,  250112.,  168192.,  376832.,  480896.,\n",
       "        480896.,  119552.,  548608.,  145664.,  377856.,  370944.,\n",
       "        374656.,  711936.,  681088.,  834176.,  734976.,  164992.,\n",
       "        184576.,   68608.,  108928.,  676352.,  622464.,  263936.,\n",
       "        174720.,  252672., 1075712.,  186624.,  565760.,  306432.,\n",
       "        640128.,  519936.,  238592.,  361472.,  323328.,  419840.,\n",
       "        483584.,  263936.,  619008.,  553344.,  266752.,  186112.,\n",
       "        478208.,  718208.,  402432.,  474368.,  544128.,  393856.,\n",
       "        483584.,  138368.,  833280.,  272384.,  431488.,  174976.,\n",
       "        150912.,  448128.,  363648.,  186112.,  346112.,  585216.,\n",
       "        425728.,  406272.,  209408.,  290944.,  405504.,  331904.,\n",
       "        406016.,  538368.,  149248.,  186240.,  958336.,  483584.,\n",
       "       1091328.,  480896., 1806592., 2937344.,  209792.,  319232.,\n",
       "        417792.,  309504.,  272384.,  348928.,  611328.,  623616.,\n",
       "        425856.,   30080.,  213760.,  150912.,  360448.,  285312.,\n",
       "        332288.,  613120.,  241920.,  243072., 1010688.,   25600.,\n",
       "        213504.,  621312.,  240384.,  345728.,  281088., 3502208.,\n",
       "        -12800.,  123648.,  293376.,  186240.,  843136.,  545152.,\n",
       "         47232.,  863104.,  350464.,  462336.,  779008.,  402432.,\n",
       "        409088., 1664256.,  351872.,  106240.])"
      ]
     },
     "execution_count": 68,
     "metadata": {},
     "output_type": "execute_result"
    }
   ],
   "source": [
    "# We create one new variable which contain the predicted price\n",
    "y_pred_poly = lr.predict(X_test_poly)\n",
    "y_pred_poly"
   ]
  },
  {
   "cell_type": "code",
   "execution_count": 69,
   "metadata": {},
   "outputs": [],
   "source": [
    "# We call the mean squarred error class to check the mean squarred error\n",
    "mse = mean_squared_error(Y_test,y_pred_poly)\n",
    "rmse = np.sqrt(mse)"
   ]
  },
  {
   "cell_type": "code",
   "execution_count": 70,
   "metadata": {},
   "outputs": [
    {
     "name": "stdout",
     "output_type": "stream",
     "text": [
      "Mean Square Error is : 115908655381.39401\n",
      "Root Mean Square Error is : 340453.6023915653\n"
     ]
    }
   ],
   "source": [
    "# Wee priint the MSE as well as RMSE\n",
    "print('Mean Square Error is :', mse) \n",
    "print('Root Mean Square Error is :', rmse)"
   ]
  },
  {
   "cell_type": "code",
   "execution_count": null,
   "metadata": {},
   "outputs": [],
   "source": []
  },
  {
   "cell_type": "code",
   "execution_count": null,
   "metadata": {},
   "outputs": [],
   "source": []
  }
 ],
 "metadata": {
  "kernelspec": {
   "display_name": "Python 3",
   "language": "python",
   "name": "python3"
  },
  "language_info": {
   "codemirror_mode": {
    "name": "ipython",
    "version": 3
   },
   "file_extension": ".py",
   "mimetype": "text/x-python",
   "name": "python",
   "nbconvert_exporter": "python",
   "pygments_lexer": "ipython3",
   "version": "3.8.3"
  }
 },
 "nbformat": 4,
 "nbformat_minor": 4
}
